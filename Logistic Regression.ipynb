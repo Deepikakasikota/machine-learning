{
 "cells": [
  {
   "cell_type": "markdown",
   "id": "29f144aa",
   "metadata": {},
   "source": [
    "# Logistic Regression"
   ]
  },
  {
   "cell_type": "markdown",
   "id": "c360d704",
   "metadata": {},
   "source": [
    "- Logistic Regression is one of the most popular Machine learning algorithms, which comes under the supervised technique.\n",
    "  It is used for predicting the categorical dependent variable using a given set of Independent variables.\n",
    "  \n",
    "    \n",
    "- Logistic regression predicts a output of a categorical dependent variable.The output must be a categorical or discrete value.\n",
    "  i.e it can be 'YES/NO, 0/1, TRUE/FALSE etc'. But it not given exact 0/1, lies between the range 0 and 1.\n",
    "  \n",
    "    \n",
    "- It must similar to the Linear regression except that hoe they are used.\n",
    "\n",
    "  \n",
    "- \" Linear regression \" is used for solving 'regression problems'. Whereas the \"Logistic regression\" is used for the \n",
    "   'classification problems'.\n",
    "   \n",
    "    \n",
    "- In Logistic regression the graph is in 's' curve shape.The curve indicates whether the cells are canceres or not etc.\n",
    "\n",
    "\n",
    "- It is a significant machine learning algorithm, because it has the ablity to provide probabilities and classify the\n",
    "  new data using the continuous and discrete datasets.\n",
    "  \n",
    "    \n",
    "- It is used to classidy the observations using different data and easily determine the most effective variables used \n",
    "  for classification."
   ]
  },
  {
   "cell_type": "markdown",
   "id": "70a3397f",
   "metadata": {},
   "source": [
    "<img src=\"https://tech-quantum.com/wp-content/uploads/2018/09/090118_1158_Classificat4.png\"/>"
   ]
  },
  {
   "cell_type": "markdown",
   "id": "387debcb",
   "metadata": {},
   "source": [
    "<immg src=\"https://tech-quantum.com/wp-content/uploads/2018/09/090118_1158_Classificat4.png\"/>"
   ]
  },
  {
   "cell_type": "markdown",
   "id": "0da71766",
   "metadata": {},
   "source": [
    "## Sigmoid function or Logistic function:\n",
    "\n"
   ]
  },
  {
   "cell_type": "markdown",
   "id": "12eace47",
   "metadata": {},
   "source": [
    "$$Ypred=\\frac{1}{1+{exp^{-xcap}}}$$"
   ]
  },
  {
   "cell_type": "markdown",
   "id": "2604e8b1",
   "metadata": {},
   "source": [
    "## x_cap value:\n",
    "\n",
    "$$Xcap = mx+c$$"
   ]
  },
  {
   "cell_type": "markdown",
   "id": "829a454f",
   "metadata": {},
   "source": [
    "## m value:\n",
    "\n",
    "$$m = \\frac{(n * \\sum_{i=0}^{n} X_{i} * Y_{i}) - (\\sum_{i=0}^{n} X * \\sum_{i=0}^{n} Y)}\n",
    "{(n*\\sum_{i=0}^{n}X^{2}) - (\\sum_{i=0}^{n}X)^2}$$"
   ]
  },
  {
   "cell_type": "markdown",
   "id": "94e2b784",
   "metadata": {},
   "source": [
    "## b value:\n",
    "\n",
    "\n",
    "$$b = \\frac{n * \\sum_{i=0}^{n} Y_{i} - m*(\\sum_{i=0}^{n} X_{i}}\n",
    "n$$\n"
   ]
  },
  {
   "cell_type": "markdown",
   "id": "29bc8404",
   "metadata": {},
   "source": [
    "- The sigmoid function is a mathematical funnction used to map the predicted values to probabilities.\n",
    "\n",
    "- It maps any real value into another valuein range '0 and 1' cannot got beyond this level forms 's curve'.\n",
    "\n",
    "- So ' s curve ' is called Sigmoid function or Logistic funnction."
   ]
  },
  {
   "cell_type": "markdown",
   "id": "5699b65f",
   "metadata": {},
   "source": [
    "## Assumptions:\n",
    "\n",
    "- The Dependent variable must be categorical in nature.\n",
    "\n",
    "- The Independent variable should not have Multi-collineariry.\n",
    "\n",
    "\n",
    "## Types of Logistic regression:\n",
    "\n",
    "1. Binomial:-\n",
    "    \n",
    "    In this the output should be ' 0 or 1, True/False, Yes/No' like this.\n",
    "    \n",
    "    \n",
    "2. Multinominal:-\n",
    "    \n",
    "    It is unordered type. Here it has 3 or more possible outcomes. 'cat','dog','cow' likethis.\n",
    "    \n",
    "    \n",
    "3. Ordinal:-\n",
    "    \n",
    "    It is ordered type and have 3 or more possible outcomes. 'low', 'medium', 'jigh' likethis.\n",
    "    "
   ]
  },
  {
   "cell_type": "code",
   "execution_count": 1,
   "id": "58319f1a",
   "metadata": {},
   "outputs": [],
   "source": [
    "import numpy as np\n",
    "import pandas as pd\n",
    "import matplotlib.pyplot as plt"
   ]
  },
  {
   "cell_type": "code",
   "execution_count": 2,
   "id": "df3ef485",
   "metadata": {},
   "outputs": [
    {
     "data": {
      "text/html": [
       "<div>\n",
       "<style scoped>\n",
       "    .dataframe tbody tr th:only-of-type {\n",
       "        vertical-align: middle;\n",
       "    }\n",
       "\n",
       "    .dataframe tbody tr th {\n",
       "        vertical-align: top;\n",
       "    }\n",
       "\n",
       "    .dataframe thead th {\n",
       "        text-align: right;\n",
       "    }\n",
       "</style>\n",
       "<table border=\"1\" class=\"dataframe\">\n",
       "  <thead>\n",
       "    <tr style=\"text-align: right;\">\n",
       "      <th></th>\n",
       "      <th>x</th>\n",
       "      <th>y</th>\n",
       "    </tr>\n",
       "  </thead>\n",
       "  <tbody>\n",
       "    <tr>\n",
       "      <th>0</th>\n",
       "      <td>0.1</td>\n",
       "      <td>0</td>\n",
       "    </tr>\n",
       "    <tr>\n",
       "      <th>1</th>\n",
       "      <td>0.2</td>\n",
       "      <td>0</td>\n",
       "    </tr>\n",
       "    <tr>\n",
       "      <th>2</th>\n",
       "      <td>0.3</td>\n",
       "      <td>0</td>\n",
       "    </tr>\n",
       "    <tr>\n",
       "      <th>3</th>\n",
       "      <td>0.4</td>\n",
       "      <td>0</td>\n",
       "    </tr>\n",
       "    <tr>\n",
       "      <th>4</th>\n",
       "      <td>0.6</td>\n",
       "      <td>1</td>\n",
       "    </tr>\n",
       "    <tr>\n",
       "      <th>5</th>\n",
       "      <td>0.7</td>\n",
       "      <td>1</td>\n",
       "    </tr>\n",
       "    <tr>\n",
       "      <th>6</th>\n",
       "      <td>0.8</td>\n",
       "      <td>1</td>\n",
       "    </tr>\n",
       "    <tr>\n",
       "      <th>7</th>\n",
       "      <td>0.9</td>\n",
       "      <td>1</td>\n",
       "    </tr>\n",
       "  </tbody>\n",
       "</table>\n",
       "</div>"
      ],
      "text/plain": [
       "     x  y\n",
       "0  0.1  0\n",
       "1  0.2  0\n",
       "2  0.3  0\n",
       "3  0.4  0\n",
       "4  0.6  1\n",
       "5  0.7  1\n",
       "6  0.8  1\n",
       "7  0.9  1"
      ]
     },
     "execution_count": 2,
     "metadata": {},
     "output_type": "execute_result"
    }
   ],
   "source": [
    "# to take the data\n",
    "\n",
    "data = {'x' : [0.1,0.2,0.3,0.4,0.6,0.7,0.8,0.9],\n",
    "        'y' : [0,0,0,0,1,1,1,1] \n",
    "       }\n",
    "\n",
    "df = pd.DataFrame(data=data)\n",
    "df"
   ]
  },
  {
   "cell_type": "code",
   "execution_count": 3,
   "id": "cc5cc414",
   "metadata": {},
   "outputs": [
    {
     "data": {
      "text/html": [
       "<div>\n",
       "<style scoped>\n",
       "    .dataframe tbody tr th:only-of-type {\n",
       "        vertical-align: middle;\n",
       "    }\n",
       "\n",
       "    .dataframe tbody tr th {\n",
       "        vertical-align: top;\n",
       "    }\n",
       "\n",
       "    .dataframe thead th {\n",
       "        text-align: right;\n",
       "    }\n",
       "</style>\n",
       "<table border=\"1\" class=\"dataframe\">\n",
       "  <thead>\n",
       "    <tr style=\"text-align: right;\">\n",
       "      <th></th>\n",
       "      <th>x</th>\n",
       "      <th>y</th>\n",
       "      <th>xy</th>\n",
       "    </tr>\n",
       "  </thead>\n",
       "  <tbody>\n",
       "    <tr>\n",
       "      <th>0</th>\n",
       "      <td>0.1</td>\n",
       "      <td>0</td>\n",
       "      <td>0.0</td>\n",
       "    </tr>\n",
       "    <tr>\n",
       "      <th>1</th>\n",
       "      <td>0.2</td>\n",
       "      <td>0</td>\n",
       "      <td>0.0</td>\n",
       "    </tr>\n",
       "    <tr>\n",
       "      <th>2</th>\n",
       "      <td>0.3</td>\n",
       "      <td>0</td>\n",
       "      <td>0.0</td>\n",
       "    </tr>\n",
       "    <tr>\n",
       "      <th>3</th>\n",
       "      <td>0.4</td>\n",
       "      <td>0</td>\n",
       "      <td>0.0</td>\n",
       "    </tr>\n",
       "    <tr>\n",
       "      <th>4</th>\n",
       "      <td>0.6</td>\n",
       "      <td>1</td>\n",
       "      <td>0.6</td>\n",
       "    </tr>\n",
       "    <tr>\n",
       "      <th>5</th>\n",
       "      <td>0.7</td>\n",
       "      <td>1</td>\n",
       "      <td>0.7</td>\n",
       "    </tr>\n",
       "    <tr>\n",
       "      <th>6</th>\n",
       "      <td>0.8</td>\n",
       "      <td>1</td>\n",
       "      <td>0.8</td>\n",
       "    </tr>\n",
       "    <tr>\n",
       "      <th>7</th>\n",
       "      <td>0.9</td>\n",
       "      <td>1</td>\n",
       "      <td>0.9</td>\n",
       "    </tr>\n",
       "  </tbody>\n",
       "</table>\n",
       "</div>"
      ],
      "text/plain": [
       "     x  y   xy\n",
       "0  0.1  0  0.0\n",
       "1  0.2  0  0.0\n",
       "2  0.3  0  0.0\n",
       "3  0.4  0  0.0\n",
       "4  0.6  1  0.6\n",
       "5  0.7  1  0.7\n",
       "6  0.8  1  0.8\n",
       "7  0.9  1  0.9"
      ]
     },
     "execution_count": 3,
     "metadata": {},
     "output_type": "execute_result"
    }
   ],
   "source": [
    "df['xy'] = df['x'] * df['y']\n",
    "df"
   ]
  },
  {
   "cell_type": "code",
   "execution_count": 4,
   "id": "93d4db29",
   "metadata": {},
   "outputs": [
    {
     "data": {
      "text/html": [
       "<div>\n",
       "<style scoped>\n",
       "    .dataframe tbody tr th:only-of-type {\n",
       "        vertical-align: middle;\n",
       "    }\n",
       "\n",
       "    .dataframe tbody tr th {\n",
       "        vertical-align: top;\n",
       "    }\n",
       "\n",
       "    .dataframe thead th {\n",
       "        text-align: right;\n",
       "    }\n",
       "</style>\n",
       "<table border=\"1\" class=\"dataframe\">\n",
       "  <thead>\n",
       "    <tr style=\"text-align: right;\">\n",
       "      <th></th>\n",
       "      <th>x</th>\n",
       "      <th>y</th>\n",
       "      <th>xy</th>\n",
       "      <th>sqr_x</th>\n",
       "    </tr>\n",
       "  </thead>\n",
       "  <tbody>\n",
       "    <tr>\n",
       "      <th>0</th>\n",
       "      <td>0.1</td>\n",
       "      <td>0</td>\n",
       "      <td>0.0</td>\n",
       "      <td>0.01</td>\n",
       "    </tr>\n",
       "    <tr>\n",
       "      <th>1</th>\n",
       "      <td>0.2</td>\n",
       "      <td>0</td>\n",
       "      <td>0.0</td>\n",
       "      <td>0.04</td>\n",
       "    </tr>\n",
       "    <tr>\n",
       "      <th>2</th>\n",
       "      <td>0.3</td>\n",
       "      <td>0</td>\n",
       "      <td>0.0</td>\n",
       "      <td>0.09</td>\n",
       "    </tr>\n",
       "    <tr>\n",
       "      <th>3</th>\n",
       "      <td>0.4</td>\n",
       "      <td>0</td>\n",
       "      <td>0.0</td>\n",
       "      <td>0.16</td>\n",
       "    </tr>\n",
       "    <tr>\n",
       "      <th>4</th>\n",
       "      <td>0.6</td>\n",
       "      <td>1</td>\n",
       "      <td>0.6</td>\n",
       "      <td>0.36</td>\n",
       "    </tr>\n",
       "    <tr>\n",
       "      <th>5</th>\n",
       "      <td>0.7</td>\n",
       "      <td>1</td>\n",
       "      <td>0.7</td>\n",
       "      <td>0.49</td>\n",
       "    </tr>\n",
       "    <tr>\n",
       "      <th>6</th>\n",
       "      <td>0.8</td>\n",
       "      <td>1</td>\n",
       "      <td>0.8</td>\n",
       "      <td>0.64</td>\n",
       "    </tr>\n",
       "    <tr>\n",
       "      <th>7</th>\n",
       "      <td>0.9</td>\n",
       "      <td>1</td>\n",
       "      <td>0.9</td>\n",
       "      <td>0.81</td>\n",
       "    </tr>\n",
       "  </tbody>\n",
       "</table>\n",
       "</div>"
      ],
      "text/plain": [
       "     x  y   xy  sqr_x\n",
       "0  0.1  0  0.0   0.01\n",
       "1  0.2  0  0.0   0.04\n",
       "2  0.3  0  0.0   0.09\n",
       "3  0.4  0  0.0   0.16\n",
       "4  0.6  1  0.6   0.36\n",
       "5  0.7  1  0.7   0.49\n",
       "6  0.8  1  0.8   0.64\n",
       "7  0.9  1  0.9   0.81"
      ]
     },
     "execution_count": 4,
     "metadata": {},
     "output_type": "execute_result"
    }
   ],
   "source": [
    "df['sqr_x'] = df['x'] ** 2\n",
    "df"
   ]
  },
  {
   "cell_type": "code",
   "execution_count": 5,
   "id": "94200de1",
   "metadata": {},
   "outputs": [
    {
     "name": "stdout",
     "output_type": "stream",
     "text": [
      "m value: 1.6666666666666676\n"
     ]
    }
   ],
   "source": [
    "\n",
    "n = len(df)\n",
    "sum_x = df['x'].sum()\n",
    "sum_y = df['y'].sum()\n",
    "sum_xy = df['xy'].sum()\n",
    "sum_sqr_x = df['sqr_x'].sum()\n",
    "sum_x_wh_2 = sum_x ** 2\n",
    "num = (n*sum_xy) - (sum_x *sum_y)\n",
    "dem = (n*sum_sqr_x) - sum_x_wh_2\n",
    "m = num / dem\n",
    "   \n",
    "print('m value:',m)"
   ]
  },
  {
   "cell_type": "code",
   "execution_count": 6,
   "id": "c0b53790",
   "metadata": {},
   "outputs": [
    {
     "name": "stdout",
     "output_type": "stream",
     "text": [
      "b value: -0.3333333333333338\n"
     ]
    }
   ],
   "source": [
    "# finding m value..\n",
    "\n",
    "num = sum_y - (m * sum_x)\n",
    "dem = n\n",
    "b = num / dem\n",
    " \n",
    "print('b value:',b)    \n"
   ]
  },
  {
   "cell_type": "code",
   "execution_count": 7,
   "id": "9a330746",
   "metadata": {},
   "outputs": [
    {
     "data": {
      "text/plain": [
       "[-0.16666666666666705,\n",
       " -2.7755575615628914e-16,\n",
       " 0.1666666666666664,\n",
       " 0.33333333333333326,\n",
       " 0.6666666666666666,\n",
       " 0.8333333333333334,\n",
       " 1.0000000000000004,\n",
       " 1.166666666666667]"
      ]
     },
     "execution_count": 7,
     "metadata": {},
     "output_type": "execute_result"
    }
   ],
   "source": [
    "# finding x_cap value..\n",
    "\n",
    "x_cap = [(m*x +b) for x in df['x']]\n",
    "x_cap"
   ]
  },
  {
   "cell_type": "code",
   "execution_count": 8,
   "id": "bb14252e",
   "metadata": {},
   "outputs": [
    {
     "data": {
      "text/plain": [
       "[0.45842951678320004,\n",
       " 0.5,\n",
       " 0.5415704832167998,\n",
       " 0.5825702064623147,\n",
       " 0.6607563687658172,\n",
       " 0.6970592839654074,\n",
       " 0.731058578630005,\n",
       " 0.7625419716560975]"
      ]
     },
     "execution_count": 8,
     "metadata": {},
     "output_type": "execute_result"
    }
   ],
   "source": [
    "# finding y_predict value..\n",
    "\n",
    "def sigmoid(x_cap):\n",
    "    y_pred =[( 1 / (1 + np.exp(-x_cap))) for x_cap in x_cap]\n",
    "    return(y_pred)\n",
    "    \n",
    "sigmoid(x_cap)\n"
   ]
  },
  {
   "cell_type": "code",
   "execution_count": 9,
   "id": "cf7d4118",
   "metadata": {},
   "outputs": [
    {
     "data": {
      "text/plain": [
       "[0.45842951678320004,\n",
       " 0.5,\n",
       " 0.5415704832167998,\n",
       " 0.5825702064623147,\n",
       " 0.6607563687658172,\n",
       " 0.6970592839654074,\n",
       " 0.731058578630005,\n",
       " 0.7625419716560975]"
      ]
     },
     "execution_count": 9,
     "metadata": {},
     "output_type": "execute_result"
    }
   ],
   "source": [
    "y_pred = sigmoid(x_cap)\n",
    "y_pred"
   ]
  },
  {
   "cell_type": "code",
   "execution_count": 10,
   "id": "375f8864",
   "metadata": {},
   "outputs": [
    {
     "data": {
      "text/plain": [
       "[0, 1, 1, 1, 1, 1, 1, 1]"
      ]
     },
     "execution_count": 10,
     "metadata": {},
     "output_type": "execute_result"
    }
   ],
   "source": [
    "# to findout the final y_predict value..\n",
    "\n",
    "def final(y_pred):\n",
    "    rm = [1 if val >= 0.5 else 0 for val in y_pred]\n",
    "    return rm\n",
    "final(y_pred)        "
   ]
  },
  {
   "cell_type": "code",
   "execution_count": 11,
   "id": "41cf3725",
   "metadata": {},
   "outputs": [
    {
     "data": {
      "text/plain": [
       "[0, 1, 1, 1, 1, 1, 1, 1]"
      ]
     },
     "execution_count": 11,
     "metadata": {},
     "output_type": "execute_result"
    }
   ],
   "source": [
    "y_pred = final(y_pred)\n",
    "y_pred"
   ]
  },
  {
   "cell_type": "code",
   "execution_count": 12,
   "id": "d411fa6a",
   "metadata": {},
   "outputs": [
    {
     "name": "stdout",
     "output_type": "stream",
     "text": [
      "Requirement already satisfied: scikit-learn in c:\\users\\91891\\anaconda3\\lib\\site-packages (0.24.2)\n",
      "Requirement already satisfied: numpy>=1.13.3 in c:\\users\\91891\\anaconda3\\lib\\site-packages (from scikit-learn) (1.20.3)\n",
      "Requirement already satisfied: threadpoolctl>=2.0.0 in c:\\users\\91891\\anaconda3\\lib\\site-packages (from scikit-learn) (2.2.0)\n",
      "Requirement already satisfied: joblib>=0.11 in c:\\users\\91891\\anaconda3\\lib\\site-packages (from scikit-learn) (1.1.0)\n",
      "Requirement already satisfied: scipy>=0.19.1 in c:\\users\\91891\\anaconda3\\lib\\site-packages (from scikit-learn) (1.7.1)\n"
     ]
    }
   ],
   "source": [
    "!pip install scikit-learn"
   ]
  },
  {
   "cell_type": "code",
   "execution_count": 13,
   "id": "023b8928",
   "metadata": {},
   "outputs": [],
   "source": [
    "from sklearn.model_selection import train_test_split\n",
    "from sklearn.linear_model import LogisticRegression\n",
    "from sklearn.metrics import confusion_matrix"
   ]
  },
  {
   "cell_type": "code",
   "execution_count": 14,
   "id": "00cd0c4a",
   "metadata": {},
   "outputs": [
    {
     "data": {
      "text/plain": [
       "array([0, 0, 0, 0, 1, 1, 1, 1], dtype=int64)"
      ]
     },
     "execution_count": 14,
     "metadata": {},
     "output_type": "execute_result"
    }
   ],
   "source": [
    "y_true = df.y.values\n",
    "y_true"
   ]
  },
  {
   "cell_type": "code",
   "execution_count": 15,
   "id": "01fcbc5b",
   "metadata": {},
   "outputs": [
    {
     "data": {
      "text/plain": [
       "[0, 1, 1, 1, 1, 1, 1, 1]"
      ]
     },
     "execution_count": 15,
     "metadata": {},
     "output_type": "execute_result"
    }
   ],
   "source": [
    "y_pred"
   ]
  },
  {
   "cell_type": "code",
   "execution_count": 16,
   "id": "99b00a3b",
   "metadata": {},
   "outputs": [
    {
     "data": {
      "text/plain": [
       "array([[1, 3],\n",
       "       [0, 4]], dtype=int64)"
      ]
     },
     "execution_count": 16,
     "metadata": {},
     "output_type": "execute_result"
    }
   ],
   "source": [
    "# creating confusion matrix\n",
    "\n",
    "cm = confusion_matrix(y_true,y_pred)\n",
    "cm"
   ]
  },
  {
   "cell_type": "code",
   "execution_count": 17,
   "id": "e6fbe446",
   "metadata": {},
   "outputs": [
    {
     "data": {
      "text/plain": [
       "0.625"
      ]
     },
     "execution_count": 17,
     "metadata": {},
     "output_type": "execute_result"
    }
   ],
   "source": [
    "# to know the accuracy..\n",
    "\n",
    "from sklearn.metrics import accuracy_score\n",
    "accuracy_score(y_true,y_pred)"
   ]
  },
  {
   "cell_type": "code",
   "execution_count": 18,
   "id": "bfec206a",
   "metadata": {},
   "outputs": [
    {
     "name": "stdout",
     "output_type": "stream",
     "text": [
      "              precision    recall  f1-score   support\n",
      "\n",
      "           0       1.00      0.25      0.40         4\n",
      "           1       0.57      1.00      0.73         4\n",
      "\n",
      "    accuracy                           0.62         8\n",
      "   macro avg       0.79      0.62      0.56         8\n",
      "weighted avg       0.79      0.62      0.56         8\n",
      "\n"
     ]
    }
   ],
   "source": [
    "# to know the recall,f1 score and total report..\n",
    "\n",
    "from sklearn.metrics import classification_report\n",
    "print(classification_report(y_true,y_pred))"
   ]
  },
  {
   "cell_type": "code",
   "execution_count": 21,
   "id": "18ac3c9b",
   "metadata": {},
   "outputs": [
    {
     "data": {
      "image/png": "[encoded data removed]",
      "text/plain": [
       "<Figure size 432x288 with 1 Axes>"
      ]
     },
     "metadata": {
      "needs_background": "light"
     },
     "output_type": "display_data"
    }
   ],
   "source": [
    "# data visualization using matplotlib...\n",
    "\n",
    "import matplotlib.pyplot as plt\n",
    "import seaborn as sns\n",
    "\n",
    "x_val = df['x']\n",
    "y_true = df['y']\n",
    "y_pred = y_pred\n",
    "\n",
    "plt.figure()\n",
    "plt.scatter(x_val,y_true,label='blue=original value')\n",
    "plt.scatter(x_val,y_pred,label='orange=predict value')\n",
    "plt.title('Logistic Regression',size = 18)\n",
    "plt.xlabel('x value',size = 16)\n",
    "plt.ylabel('y value', size = 16)\n",
    "plt.legend()\n",
    "plt.show()\n"
   ]
  },
  {
   "cell_type": "code",
   "execution_count": null,
   "id": "4f2b6935",
   "metadata": {},
   "outputs": [],
   "source": []
  }
 ],
 "metadata": {
  "kernelspec": {
   "display_name": "Python 3 (ipykernel)",
   "language": "python",
   "name": "python3"
  },
  "language_info": {
   "codemirror_mode": {
    "name": "ipython",
    "version": 3
   },
   "file_extension": ".py",
   "mimetype": "text/x-python",
   "name": "python",
   "nbconvert_exporter": "python",
   "pygments_lexer": "ipython3",
   "version": "3.9.7"
  }
 },
 "nbformat": 4,
 "nbformat_minor": 5
}
