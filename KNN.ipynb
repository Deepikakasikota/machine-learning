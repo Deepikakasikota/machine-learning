{
 "cells": [
  {
   "cell_type": "markdown",
   "id": "3b8299f2",
   "metadata": {},
   "source": [
    "# KNN - (K- Nearest Neighbor)"
   ]
  },
  {
   "cell_type": "markdown",
   "id": "08e9ad97",
   "metadata": {},
   "source": [
    "* K-NN is one of the simplest Machine learning Algorithms based on Supervised learning technique.\n",
    "\n",
    "\n",
    "* K-NN assumes the similarity between the new case/data and available case and put the new case/data \n",
    "  into the category that is most similar to the avaliable categories.\n",
    "  \n",
    "  \n",
    "* It stores all the avaliable data and classifies a new data point based on similarity.\n",
    "\n",
    "\n",
    "* K-NN algorithm ccan be used for Regression as well as for Classification but mostly used for \n",
    "  classification problem.\n",
    "  \n",
    "  \n",
    "* K-NN is a \" non - parametric algorithm \", which means it does not make any assumption on underlying data.\n",
    "\n",
    "\n",
    "* K-NN is also called a \" Lazy learner algorithm \" because it does not learn from the training set immediately\n",
    "  instead it stores the dataset and at the time of classification, it performs an action on the dataset.\n",
    "  \n",
    "  \n",
    "* K-NN algorithm at the training phase just stores the dataset and when it gets new data, then it classifies \n",
    "  that data into a category that is much similar to the new data."
   ]
  },
  {
   "cell_type": "markdown",
   "id": "1a608025",
   "metadata": {},
   "source": [
    "<img src=\"https://tse2.mm.bing.net/th?id=OIP.VoC6c5TDIO-qFq3-m1oc8gHaDt&pid=Api&P=0&w=347&h=173\"/>"
   ]
  },
  {
   "cell_type": "markdown",
   "id": "ebdaf402",
   "metadata": {},
   "source": [
    "## Advantages:\n",
    "\n",
    "- It is simple to implement.\n",
    "\n",
    "- It is Robust to the noisy training data.\n",
    "\n",
    "- It can be more effective if the training data is large.\n",
    "\n",
    "\n",
    "## Disadvantages:\n",
    "\n",
    "- Always needs to determine the value of k which may be complex some time.\n",
    "\n",
    "- The computation cost is high because of calculating the distance between the data points\n",
    "  for all the training samples."
   ]
  },
  {
   "cell_type": "code",
   "execution_count": 1,
   "id": "95c1ce77",
   "metadata": {},
   "outputs": [],
   "source": [
    "import numpy as np\n",
    "import pandas as pd\n",
    "from sklearn.neighbors import KNeighborsClassifier\n",
    "from sklearn.datasets import load_iris\n"
   ]
  },
  {
   "cell_type": "code",
   "execution_count": 2,
   "id": "fd65c696",
   "metadata": {},
   "outputs": [],
   "source": [
    "iris = load_iris()"
   ]
  },
  {
   "cell_type": "code",
   "execution_count": 3,
   "id": "f84b4c1a",
   "metadata": {},
   "outputs": [
    {
     "data": {
      "text/plain": [
       "['DESCR',\n",
       " 'data',\n",
       " 'feature_names',\n",
       " 'filename',\n",
       " 'frame',\n",
       " 'target',\n",
       " 'target_names']"
      ]
     },
     "execution_count": 3,
     "metadata": {},
     "output_type": "execute_result"
    }
   ],
   "source": [
    "dir(iris)"
   ]
  },
  {
   "cell_type": "code",
   "execution_count": 4,
   "id": "7ae6e056",
   "metadata": {},
   "outputs": [
    {
     "data": {
      "text/plain": [
       "['sepal length (cm)',\n",
       " 'sepal width (cm)',\n",
       " 'petal length (cm)',\n",
       " 'petal width (cm)']"
      ]
     },
     "execution_count": 4,
     "metadata": {},
     "output_type": "execute_result"
    }
   ],
   "source": [
    "iris.feature_names"
   ]
  },
  {
   "cell_type": "code",
   "execution_count": 7,
   "id": "4d342019",
   "metadata": {},
   "outputs": [
    {
     "data": {
      "text/html": [
       "<div>\n",
       "<style scoped>\n",
       "    .dataframe tbody tr th:only-of-type {\n",
       "        vertical-align: middle;\n",
       "    }\n",
       "\n",
       "    .dataframe tbody tr th {\n",
       "        vertical-align: top;\n",
       "    }\n",
       "\n",
       "    .dataframe thead th {\n",
       "        text-align: right;\n",
       "    }\n",
       "</style>\n",
       "<table border=\"1\" class=\"dataframe\">\n",
       "  <thead>\n",
       "    <tr style=\"text-align: right;\">\n",
       "      <th></th>\n",
       "      <th>sepal length (cm)</th>\n",
       "      <th>sepal width (cm)</th>\n",
       "      <th>petal length (cm)</th>\n",
       "      <th>petal width (cm)</th>\n",
       "    </tr>\n",
       "  </thead>\n",
       "  <tbody>\n",
       "    <tr>\n",
       "      <th>0</th>\n",
       "      <td>5.1</td>\n",
       "      <td>3.5</td>\n",
       "      <td>1.4</td>\n",
       "      <td>0.2</td>\n",
       "    </tr>\n",
       "    <tr>\n",
       "      <th>1</th>\n",
       "      <td>4.9</td>\n",
       "      <td>3.0</td>\n",
       "      <td>1.4</td>\n",
       "      <td>0.2</td>\n",
       "    </tr>\n",
       "    <tr>\n",
       "      <th>2</th>\n",
       "      <td>4.7</td>\n",
       "      <td>3.2</td>\n",
       "      <td>1.3</td>\n",
       "      <td>0.2</td>\n",
       "    </tr>\n",
       "    <tr>\n",
       "      <th>3</th>\n",
       "      <td>4.6</td>\n",
       "      <td>3.1</td>\n",
       "      <td>1.5</td>\n",
       "      <td>0.2</td>\n",
       "    </tr>\n",
       "    <tr>\n",
       "      <th>4</th>\n",
       "      <td>5.0</td>\n",
       "      <td>3.6</td>\n",
       "      <td>1.4</td>\n",
       "      <td>0.2</td>\n",
       "    </tr>\n",
       "  </tbody>\n",
       "</table>\n",
       "</div>"
      ],
      "text/plain": [
       "   sepal length (cm)  sepal width (cm)  petal length (cm)  petal width (cm)\n",
       "0                5.1               3.5                1.4               0.2\n",
       "1                4.9               3.0                1.4               0.2\n",
       "2                4.7               3.2                1.3               0.2\n",
       "3                4.6               3.1                1.5               0.2\n",
       "4                5.0               3.6                1.4               0.2"
      ]
     },
     "execution_count": 7,
     "metadata": {},
     "output_type": "execute_result"
    }
   ],
   "source": [
    "df = pd.DataFrame(iris.data, columns=iris.feature_names)\n",
    "df.head()"
   ]
  },
  {
   "cell_type": "code",
   "execution_count": 8,
   "id": "c8c1c219",
   "metadata": {},
   "outputs": [
    {
     "data": {
      "text/html": [
       "<div>\n",
       "<style scoped>\n",
       "    .dataframe tbody tr th:only-of-type {\n",
       "        vertical-align: middle;\n",
       "    }\n",
       "\n",
       "    .dataframe tbody tr th {\n",
       "        vertical-align: top;\n",
       "    }\n",
       "\n",
       "    .dataframe thead th {\n",
       "        text-align: right;\n",
       "    }\n",
       "</style>\n",
       "<table border=\"1\" class=\"dataframe\">\n",
       "  <thead>\n",
       "    <tr style=\"text-align: right;\">\n",
       "      <th></th>\n",
       "      <th>sepal length (cm)</th>\n",
       "      <th>sepal width (cm)</th>\n",
       "      <th>petal length (cm)</th>\n",
       "      <th>petal width (cm)</th>\n",
       "      <th>target</th>\n",
       "    </tr>\n",
       "  </thead>\n",
       "  <tbody>\n",
       "    <tr>\n",
       "      <th>0</th>\n",
       "      <td>5.1</td>\n",
       "      <td>3.5</td>\n",
       "      <td>1.4</td>\n",
       "      <td>0.2</td>\n",
       "      <td>0</td>\n",
       "    </tr>\n",
       "    <tr>\n",
       "      <th>1</th>\n",
       "      <td>4.9</td>\n",
       "      <td>3.0</td>\n",
       "      <td>1.4</td>\n",
       "      <td>0.2</td>\n",
       "      <td>0</td>\n",
       "    </tr>\n",
       "    <tr>\n",
       "      <th>2</th>\n",
       "      <td>4.7</td>\n",
       "      <td>3.2</td>\n",
       "      <td>1.3</td>\n",
       "      <td>0.2</td>\n",
       "      <td>0</td>\n",
       "    </tr>\n",
       "    <tr>\n",
       "      <th>3</th>\n",
       "      <td>4.6</td>\n",
       "      <td>3.1</td>\n",
       "      <td>1.5</td>\n",
       "      <td>0.2</td>\n",
       "      <td>0</td>\n",
       "    </tr>\n",
       "    <tr>\n",
       "      <th>4</th>\n",
       "      <td>5.0</td>\n",
       "      <td>3.6</td>\n",
       "      <td>1.4</td>\n",
       "      <td>0.2</td>\n",
       "      <td>0</td>\n",
       "    </tr>\n",
       "  </tbody>\n",
       "</table>\n",
       "</div>"
      ],
      "text/plain": [
       "   sepal length (cm)  sepal width (cm)  petal length (cm)  petal width (cm)  \\\n",
       "0                5.1               3.5                1.4               0.2   \n",
       "1                4.9               3.0                1.4               0.2   \n",
       "2                4.7               3.2                1.3               0.2   \n",
       "3                4.6               3.1                1.5               0.2   \n",
       "4                5.0               3.6                1.4               0.2   \n",
       "\n",
       "   target  \n",
       "0       0  \n",
       "1       0  \n",
       "2       0  \n",
       "3       0  \n",
       "4       0  "
      ]
     },
     "execution_count": 8,
     "metadata": {},
     "output_type": "execute_result"
    }
   ],
   "source": [
    "df['target'] = iris.target\n",
    "df.head()"
   ]
  },
  {
   "cell_type": "code",
   "execution_count": 6,
   "id": "3e134cc9",
   "metadata": {},
   "outputs": [
    {
     "name": "stdout",
     "output_type": "stream",
     "text": [
      "<class 'pandas.core.frame.DataFrame'>\n",
      "RangeIndex: 150 entries, 0 to 149\n",
      "Data columns (total 5 columns):\n",
      " #   Column  Non-Null Count  Dtype  \n",
      "---  ------  --------------  -----  \n",
      " 0   f1      150 non-null    float64\n",
      " 1   f2      150 non-null    float64\n",
      " 2   f3      150 non-null    float64\n",
      " 3   f4      150 non-null    float64\n",
      " 4   c       150 non-null    object \n",
      "dtypes: float64(4), object(1)\n",
      "memory usage: 6.0+ KB\n"
     ]
    }
   ],
   "source": [
    "data.info()\n"
   ]
  },
  {
   "cell_type": "code",
   "execution_count": 9,
   "id": "c424d474",
   "metadata": {},
   "outputs": [
    {
     "data": {
      "text/plain": [
       "array(['setosa', 'versicolor', 'virginica'], dtype='<U10')"
      ]
     },
     "execution_count": 9,
     "metadata": {},
     "output_type": "execute_result"
    }
   ],
   "source": [
    "iris.target_names"
   ]
  },
  {
   "cell_type": "code",
   "execution_count": 10,
   "id": "78ee3ce5",
   "metadata": {},
   "outputs": [
    {
     "data": {
      "text/html": [
       "<div>\n",
       "<style scoped>\n",
       "    .dataframe tbody tr th:only-of-type {\n",
       "        vertical-align: middle;\n",
       "    }\n",
       "\n",
       "    .dataframe tbody tr th {\n",
       "        vertical-align: top;\n",
       "    }\n",
       "\n",
       "    .dataframe thead th {\n",
       "        text-align: right;\n",
       "    }\n",
       "</style>\n",
       "<table border=\"1\" class=\"dataframe\">\n",
       "  <thead>\n",
       "    <tr style=\"text-align: right;\">\n",
       "      <th></th>\n",
       "      <th>sepal length (cm)</th>\n",
       "      <th>sepal width (cm)</th>\n",
       "      <th>petal length (cm)</th>\n",
       "      <th>petal width (cm)</th>\n",
       "      <th>target</th>\n",
       "    </tr>\n",
       "  </thead>\n",
       "  <tbody>\n",
       "    <tr>\n",
       "      <th>100</th>\n",
       "      <td>6.3</td>\n",
       "      <td>3.3</td>\n",
       "      <td>6.0</td>\n",
       "      <td>2.5</td>\n",
       "      <td>2</td>\n",
       "    </tr>\n",
       "    <tr>\n",
       "      <th>101</th>\n",
       "      <td>5.8</td>\n",
       "      <td>2.7</td>\n",
       "      <td>5.1</td>\n",
       "      <td>1.9</td>\n",
       "      <td>2</td>\n",
       "    </tr>\n",
       "    <tr>\n",
       "      <th>102</th>\n",
       "      <td>7.1</td>\n",
       "      <td>3.0</td>\n",
       "      <td>5.9</td>\n",
       "      <td>2.1</td>\n",
       "      <td>2</td>\n",
       "    </tr>\n",
       "    <tr>\n",
       "      <th>103</th>\n",
       "      <td>6.3</td>\n",
       "      <td>2.9</td>\n",
       "      <td>5.6</td>\n",
       "      <td>1.8</td>\n",
       "      <td>2</td>\n",
       "    </tr>\n",
       "    <tr>\n",
       "      <th>104</th>\n",
       "      <td>6.5</td>\n",
       "      <td>3.0</td>\n",
       "      <td>5.8</td>\n",
       "      <td>2.2</td>\n",
       "      <td>2</td>\n",
       "    </tr>\n",
       "  </tbody>\n",
       "</table>\n",
       "</div>"
      ],
      "text/plain": [
       "     sepal length (cm)  sepal width (cm)  petal length (cm)  petal width (cm)  \\\n",
       "100                6.3               3.3                6.0               2.5   \n",
       "101                5.8               2.7                5.1               1.9   \n",
       "102                7.1               3.0                5.9               2.1   \n",
       "103                6.3               2.9                5.6               1.8   \n",
       "104                6.5               3.0                5.8               2.2   \n",
       "\n",
       "     target  \n",
       "100       2  \n",
       "101       2  \n",
       "102       2  \n",
       "103       2  \n",
       "104       2  "
      ]
     },
     "execution_count": 10,
     "metadata": {},
     "output_type": "execute_result"
    }
   ],
   "source": [
    "df[df.target==2].head()"
   ]
  },
  {
   "cell_type": "code",
   "execution_count": 14,
   "id": "14869546",
   "metadata": {},
   "outputs": [
    {
     "data": {
      "text/html": [
       "<div>\n",
       "<style scoped>\n",
       "    .dataframe tbody tr th:only-of-type {\n",
       "        vertical-align: middle;\n",
       "    }\n",
       "\n",
       "    .dataframe tbody tr th {\n",
       "        vertical-align: top;\n",
       "    }\n",
       "\n",
       "    .dataframe thead th {\n",
       "        text-align: right;\n",
       "    }\n",
       "</style>\n",
       "<table border=\"1\" class=\"dataframe\">\n",
       "  <thead>\n",
       "    <tr style=\"text-align: right;\">\n",
       "      <th></th>\n",
       "      <th>sepal length (cm)</th>\n",
       "      <th>sepal width (cm)</th>\n",
       "      <th>petal length (cm)</th>\n",
       "      <th>petal width (cm)</th>\n",
       "      <th>target</th>\n",
       "      <th>flower_name</th>\n",
       "    </tr>\n",
       "  </thead>\n",
       "  <tbody>\n",
       "    <tr>\n",
       "      <th>0</th>\n",
       "      <td>5.1</td>\n",
       "      <td>3.5</td>\n",
       "      <td>1.4</td>\n",
       "      <td>0.2</td>\n",
       "      <td>0</td>\n",
       "      <td>setosa</td>\n",
       "    </tr>\n",
       "    <tr>\n",
       "      <th>1</th>\n",
       "      <td>4.9</td>\n",
       "      <td>3.0</td>\n",
       "      <td>1.4</td>\n",
       "      <td>0.2</td>\n",
       "      <td>0</td>\n",
       "      <td>setosa</td>\n",
       "    </tr>\n",
       "    <tr>\n",
       "      <th>2</th>\n",
       "      <td>4.7</td>\n",
       "      <td>3.2</td>\n",
       "      <td>1.3</td>\n",
       "      <td>0.2</td>\n",
       "      <td>0</td>\n",
       "      <td>setosa</td>\n",
       "    </tr>\n",
       "    <tr>\n",
       "      <th>3</th>\n",
       "      <td>4.6</td>\n",
       "      <td>3.1</td>\n",
       "      <td>1.5</td>\n",
       "      <td>0.2</td>\n",
       "      <td>0</td>\n",
       "      <td>setosa</td>\n",
       "    </tr>\n",
       "    <tr>\n",
       "      <th>4</th>\n",
       "      <td>5.0</td>\n",
       "      <td>3.6</td>\n",
       "      <td>1.4</td>\n",
       "      <td>0.2</td>\n",
       "      <td>0</td>\n",
       "      <td>setosa</td>\n",
       "    </tr>\n",
       "  </tbody>\n",
       "</table>\n",
       "</div>"
      ],
      "text/plain": [
       "   sepal length (cm)  sepal width (cm)  petal length (cm)  petal width (cm)  \\\n",
       "0                5.1               3.5                1.4               0.2   \n",
       "1                4.9               3.0                1.4               0.2   \n",
       "2                4.7               3.2                1.3               0.2   \n",
       "3                4.6               3.1                1.5               0.2   \n",
       "4                5.0               3.6                1.4               0.2   \n",
       "\n",
       "   target flower_name  \n",
       "0       0      setosa  \n",
       "1       0      setosa  \n",
       "2       0      setosa  \n",
       "3       0      setosa  \n",
       "4       0      setosa  "
      ]
     },
     "execution_count": 14,
     "metadata": {},
     "output_type": "execute_result"
    }
   ],
   "source": [
    "df['flower_name'] = df.target.apply(lambda x: iris.target_names[x])\n",
    "df.head()"
   ]
  },
  {
   "cell_type": "code",
   "execution_count": 17,
   "id": "3fdd0d36",
   "metadata": {},
   "outputs": [
    {
     "data": {
      "text/plain": [
       "(   sepal length (cm)  sepal width (cm)  petal length (cm)  petal width (cm)  \\\n",
       " 0                5.1               3.5                1.4               0.2   \n",
       " 1                4.9               3.0                1.4               0.2   \n",
       " 2                4.7               3.2                1.3               0.2   \n",
       " 3                4.6               3.1                1.5               0.2   \n",
       " 4                5.0               3.6                1.4               0.2   \n",
       " \n",
       "    target flower_name  \n",
       " 0       0      setosa  \n",
       " 1       0      setosa  \n",
       " 2       0      setosa  \n",
       " 3       0      setosa  \n",
       " 4       0      setosa  ,\n",
       "     sepal length (cm)  sepal width (cm)  petal length (cm)  petal width (cm)  \\\n",
       " 50                7.0               3.2                4.7               1.4   \n",
       " 51                6.4               3.2                4.5               1.5   \n",
       " 52                6.9               3.1                4.9               1.5   \n",
       " 53                5.5               2.3                4.0               1.3   \n",
       " 54                6.5               2.8                4.6               1.5   \n",
       " \n",
       "     target flower_name  \n",
       " 50       1  versicolor  \n",
       " 51       1  versicolor  \n",
       " 52       1  versicolor  \n",
       " 53       1  versicolor  \n",
       " 54       1  versicolor  ,\n",
       "      sepal length (cm)  sepal width (cm)  petal length (cm)  petal width (cm)  \\\n",
       " 100                6.3               3.3                6.0               2.5   \n",
       " 101                5.8               2.7                5.1               1.9   \n",
       " 102                7.1               3.0                5.9               2.1   \n",
       " 103                6.3               2.9                5.6               1.8   \n",
       " 104                6.5               3.0                5.8               2.2   \n",
       " \n",
       "      target flower_name  \n",
       " 100       2   virginica  \n",
       " 101       2   virginica  \n",
       " 102       2   virginica  \n",
       " 103       2   virginica  \n",
       " 104       2   virginica  )"
      ]
     },
     "execution_count": 17,
     "metadata": {},
     "output_type": "execute_result"
    }
   ],
   "source": [
    "df0 = df[df.target==0]\n",
    "df1 = df[df.target==1]\n",
    "df2 = df[df.target==2]\n",
    "\n",
    "df0.head(), df1.head(), df2.head()"
   ]
  },
  {
   "cell_type": "markdown",
   "id": "07e54351",
   "metadata": {},
   "source": [
    "## Data visualization (before apply knn):"
   ]
  },
  {
   "cell_type": "code",
   "execution_count": 62,
   "id": "a20f4cd0",
   "metadata": {},
   "outputs": [
    {
     "data": {
      "image/png": "[encoded data removed]",
      "text/plain": [
       "<Figure size 432x288 with 1 Axes>"
      ]
     },
     "metadata": {
      "needs_background": "light"
     },
     "output_type": "display_data"
    }
   ],
   "source": [
    "from matplotlib import pyplot as plt\n",
    "\n",
    "x0 = df['sepal length (cm)'] \n",
    "y0 = df['sepal width (cm)'] \n",
    "x1 = df['petal length (cm)'] \n",
    "y1 = df['petal width (cm)'] \n",
    "\n",
    "plt.xlabel(' length',size=16)\n",
    "plt.ylabel(' width',size=16)\n",
    "plt.title('sepal length & petal width',size=18)\n",
    "plt.scatter(x0, y0, color='blue', marker='.',label='sepal=b')\n",
    "plt.scatter(x1, y1, color='green', marker='*',label='petal=g')\n",
    "plt.legend()\n",
    "plt.show()"
   ]
  },
  {
   "cell_type": "code",
   "execution_count": 58,
   "id": "518fd0ea",
   "metadata": {},
   "outputs": [
    {
     "data": {
      "image/png": "[encoded data removed]",
      "text/plain": [
       "<Figure size 432x288 with 1 Axes>"
      ]
     },
     "metadata": {
      "needs_background": "light"
     },
     "output_type": "display_data"
    }
   ],
   "source": [
    "x0 = df0['sepal length (cm)'] \n",
    "y0 = df0['sepal width (cm)'] \n",
    "x1 = df1['sepal length (cm)'] \n",
    "y1 = df1['sepal width (cm)'] \n",
    "\n",
    "plt.xlabel('sepal length',size=16)\n",
    "plt.ylabel('sepal width',size=16)\n",
    "plt.title('satosa vs versicolor',size=18)\n",
    "plt.scatter(x0, y0, color='blue', marker='.',label='satosa=b')\n",
    "plt.scatter(x1, y1, color='green', marker='*',label='versicolor=g')\n",
    "plt.legend()\n",
    "plt.show()"
   ]
  },
  {
   "cell_type": "code",
   "execution_count": 60,
   "id": "d74b14a8",
   "metadata": {},
   "outputs": [
    {
     "data": {
      "image/png": "[encoded data removed]",
      "text/plain": [
       "<Figure size 432x288 with 1 Axes>"
      ]
     },
     "metadata": {
      "needs_background": "light"
     },
     "output_type": "display_data"
    }
   ],
   "source": [
    "from matplotlib import pyplot as plt\n",
    "\n",
    "x0 = df0['petal length (cm)'] \n",
    "y0 = df0['petal width (cm)'] \n",
    "x1 = df1['petal length (cm)'] \n",
    "y1 = df1['petal width (cm)'] \n",
    "\n",
    "plt.xlabel('petal length',size=16)\n",
    "plt.ylabel('petal width',size=16)\n",
    "plt.title('satosa vs versicolor',size=18)\n",
    "plt.scatter(x0, y0, color='blue', marker='.',label='satosa=b')\n",
    "plt.scatter(x1, y1, color='green', marker='*',label='versicolor=g')\n",
    "plt.legend()\n",
    "plt.show()"
   ]
  },
  {
   "cell_type": "markdown",
   "id": "2c40e869",
   "metadata": {},
   "source": [
    "### Train & Test the data:"
   ]
  },
  {
   "cell_type": "code",
   "execution_count": 18,
   "id": "64f492c7",
   "metadata": {},
   "outputs": [],
   "source": [
    "from sklearn.model_selection import train_test_split"
   ]
  },
  {
   "cell_type": "code",
   "execution_count": 20,
   "id": "5cf1ab0f",
   "metadata": {},
   "outputs": [],
   "source": [
    "# drop the columns target and flower_name..\n",
    "\n",
    "x = df.drop(['target','flower_name'], axis='columns')\n",
    "y = df.target"
   ]
  },
  {
   "cell_type": "code",
   "execution_count": 21,
   "id": "0d1e7855",
   "metadata": {},
   "outputs": [],
   "source": [
    "x_train, x_test, y_train, y_test = train_test_split(x,y,test_size=0.3,random_state=1)"
   ]
  },
  {
   "cell_type": "code",
   "execution_count": 22,
   "id": "db9b74b1",
   "metadata": {},
   "outputs": [
    {
     "data": {
      "text/plain": [
       "(     sepal length (cm)  sepal width (cm)  petal length (cm)  petal width (cm)\n",
       " 118                7.7               2.6                6.9               2.3\n",
       " 18                 5.7               3.8                1.7               0.3\n",
       " 4                  5.0               3.6                1.4               0.2\n",
       " 45                 4.8               3.0                1.4               0.3\n",
       " 59                 5.2               2.7                3.9               1.4\n",
       " ..                 ...               ...                ...               ...\n",
       " 133                6.3               2.8                5.1               1.5\n",
       " 137                6.4               3.1                5.5               1.8\n",
       " 72                 6.3               2.5                4.9               1.5\n",
       " 140                6.7               3.1                5.6               2.4\n",
       " 37                 4.9               3.6                1.4               0.1\n",
       " \n",
       " [105 rows x 4 columns],\n",
       " 118    2\n",
       " 18     0\n",
       " 4      0\n",
       " 45     0\n",
       " 59     1\n",
       "       ..\n",
       " 133    2\n",
       " 137    2\n",
       " 72     1\n",
       " 140    2\n",
       " 37     0\n",
       " Name: target, Length: 105, dtype: int32,\n",
       "      sepal length (cm)  sepal width (cm)  petal length (cm)  petal width (cm)\n",
       " 14                 5.8               4.0                1.2               0.2\n",
       " 98                 5.1               2.5                3.0               1.1\n",
       " 75                 6.6               3.0                4.4               1.4\n",
       " 16                 5.4               3.9                1.3               0.4\n",
       " 131                7.9               3.8                6.4               2.0\n",
       " 56                 6.3               3.3                4.7               1.6\n",
       " 141                6.9               3.1                5.1               2.3\n",
       " 44                 5.1               3.8                1.9               0.4\n",
       " 29                 4.7               3.2                1.6               0.2\n",
       " 120                6.9               3.2                5.7               2.3\n",
       " 94                 5.6               2.7                4.2               1.3\n",
       " 5                  5.4               3.9                1.7               0.4\n",
       " 102                7.1               3.0                5.9               2.1\n",
       " 51                 6.4               3.2                4.5               1.5\n",
       " 78                 6.0               2.9                4.5               1.5\n",
       " 42                 4.4               3.2                1.3               0.2\n",
       " 92                 5.8               2.6                4.0               1.2\n",
       " 66                 5.6               3.0                4.5               1.5\n",
       " 31                 5.4               3.4                1.5               0.4\n",
       " 35                 5.0               3.2                1.2               0.2\n",
       " 90                 5.5               2.6                4.4               1.2\n",
       " 84                 5.4               3.0                4.5               1.5\n",
       " 77                 6.7               3.0                5.0               1.7\n",
       " 40                 5.0               3.5                1.3               0.3\n",
       " 125                7.2               3.2                6.0               1.8\n",
       " 99                 5.7               2.8                4.1               1.3\n",
       " 33                 5.5               4.2                1.4               0.2\n",
       " 19                 5.1               3.8                1.5               0.3\n",
       " 73                 6.1               2.8                4.7               1.2\n",
       " 146                6.3               2.5                5.0               1.9\n",
       " 91                 6.1               3.0                4.6               1.4\n",
       " 135                7.7               3.0                6.1               2.3\n",
       " 69                 5.6               2.5                3.9               1.1\n",
       " 128                6.4               2.8                5.6               2.1\n",
       " 114                5.8               2.8                5.1               2.4\n",
       " 48                 5.3               3.7                1.5               0.2\n",
       " 53                 5.5               2.3                4.0               1.3\n",
       " 28                 5.2               3.4                1.4               0.2\n",
       " 54                 6.5               2.8                4.6               1.5\n",
       " 108                6.7               2.5                5.8               1.8\n",
       " 112                6.8               3.0                5.5               2.1\n",
       " 17                 5.1               3.5                1.4               0.3\n",
       " 119                6.0               2.2                5.0               1.5\n",
       " 103                6.3               2.9                5.6               1.8\n",
       " 58                 6.6               2.9                4.6               1.3,\n",
       " 14     0\n",
       " 98     1\n",
       " 75     1\n",
       " 16     0\n",
       " 131    2\n",
       " 56     1\n",
       " 141    2\n",
       " 44     0\n",
       " 29     0\n",
       " 120    2\n",
       " 94     1\n",
       " 5      0\n",
       " 102    2\n",
       " 51     1\n",
       " 78     1\n",
       " 42     0\n",
       " 92     1\n",
       " 66     1\n",
       " 31     0\n",
       " 35     0\n",
       " 90     1\n",
       " 84     1\n",
       " 77     1\n",
       " 40     0\n",
       " 125    2\n",
       " 99     1\n",
       " 33     0\n",
       " 19     0\n",
       " 73     1\n",
       " 146    2\n",
       " 91     1\n",
       " 135    2\n",
       " 69     1\n",
       " 128    2\n",
       " 114    2\n",
       " 48     0\n",
       " 53     1\n",
       " 28     0\n",
       " 54     1\n",
       " 108    2\n",
       " 112    2\n",
       " 17     0\n",
       " 119    2\n",
       " 103    2\n",
       " 58     1\n",
       " Name: target, dtype: int32)"
      ]
     },
     "execution_count": 22,
     "metadata": {},
     "output_type": "execute_result"
    }
   ],
   "source": [
    "x_train, y_train, x_test, y_test"
   ]
  },
  {
   "cell_type": "code",
   "execution_count": 23,
   "id": "7db363d2",
   "metadata": {},
   "outputs": [
    {
     "data": {
      "text/plain": [
       "((105, 4), (45, 4), (105,), (45,))"
      ]
     },
     "execution_count": 23,
     "metadata": {},
     "output_type": "execute_result"
    }
   ],
   "source": [
    "# to know the shape of the train & test data\n",
    "\n",
    "x_train.shape, x_test.shape, y_train.shape, y_test.shape"
   ]
  },
  {
   "cell_type": "markdown",
   "id": "39e5a85b",
   "metadata": {},
   "source": [
    "## To create K-NN.."
   ]
  },
  {
   "cell_type": "code",
   "execution_count": 30,
   "id": "261ec1c5",
   "metadata": {},
   "outputs": [
    {
     "data": {
      "text/plain": [
       "KNeighborsClassifier()"
      ]
     },
     "execution_count": 30,
     "metadata": {},
     "output_type": "execute_result"
    }
   ],
   "source": [
    "# to fit the data and using k = 5..\n",
    "\n",
    "knn = KNeighborsClassifier(n_neighbors = 5)\n",
    "knn.fit(x_train, y_train)"
   ]
  },
  {
   "cell_type": "code",
   "execution_count": 31,
   "id": "6556976d",
   "metadata": {},
   "outputs": [
    {
     "data": {
      "text/plain": [
       "0.9777777777777777"
      ]
     },
     "execution_count": 31,
     "metadata": {},
     "output_type": "execute_result"
    }
   ],
   "source": [
    "# to find the accuracy score of the x_test and then compare with y_test..\n",
    "\n",
    "knn.score(x_test, y_test)"
   ]
  },
  {
   "cell_type": "code",
   "execution_count": 32,
   "id": "5cdd1d3a",
   "metadata": {},
   "outputs": [
    {
     "data": {
      "text/plain": [
       "array([0, 1, 1, 0, 2, 1, 2, 0, 0, 2, 1, 0, 2, 1, 1, 0, 1, 1, 0, 0, 1, 1,\n",
       "       1, 0, 2, 1, 0, 0, 1, 2, 1, 2, 1, 2, 2, 0, 1, 0, 1, 2, 2, 0, 1, 2,\n",
       "       1])"
      ]
     },
     "execution_count": 32,
     "metadata": {},
     "output_type": "execute_result"
    }
   ],
   "source": [
    "# predict the data\n",
    "\n",
    "y_pred = knn.predict(x_test)\n",
    "y_pred"
   ]
  },
  {
   "cell_type": "code",
   "execution_count": 33,
   "id": "7237d9dc",
   "metadata": {},
   "outputs": [
    {
     "data": {
      "text/plain": [
       "array([[14,  0,  0],\n",
       "       [ 0, 18,  0],\n",
       "       [ 0,  1, 12]], dtype=int64)"
      ]
     },
     "execution_count": 33,
     "metadata": {},
     "output_type": "execute_result"
    }
   ],
   "source": [
    "from sklearn.metrics import confusion_matrix\n",
    "\n",
    "y_pred = knn.predict(x_test)\n",
    "\n",
    "cm = confusion_matrix(y_test, y_pred)\n",
    "cm"
   ]
  },
  {
   "cell_type": "markdown",
   "id": "bea26e4c",
   "metadata": {},
   "source": [
    "### To find the accuracy score.."
   ]
  },
  {
   "cell_type": "code",
   "execution_count": 17,
   "id": "a91dc9cc",
   "metadata": {},
   "outputs": [
    {
     "data": {
      "text/plain": [
       "0.9777777777777777"
      ]
     },
     "execution_count": 17,
     "metadata": {},
     "output_type": "execute_result"
    }
   ],
   "source": [
    "#to find the accuracy score of y_test and then compare with y_pred..\n",
    "\n",
    "from sklearn.metrics import accuracy_score\n",
    "accuracy_score(y_test, y_pred)              "
   ]
  },
  {
   "cell_type": "markdown",
   "id": "ea91ffaf",
   "metadata": {},
   "source": [
    "## Data visualization using Heatmap (after apply knn) :"
   ]
  },
  {
   "cell_type": "code",
   "execution_count": 34,
   "id": "90936381",
   "metadata": {},
   "outputs": [
    {
     "data": {
      "text/plain": [
       "Text(42.0, 0.5, 'True')"
      ]
     },
     "execution_count": 34,
     "metadata": {},
     "output_type": "execute_result"
    },
    {
     "data": {
      "image/png": "[encoded data removed]",
      "text/plain": [
       "<Figure size 504x360 with 2 Axes>"
      ]
     },
     "metadata": {
      "needs_background": "light"
     },
     "output_type": "display_data"
    }
   ],
   "source": [
    "%matplotlib inline\n",
    "import matplotlib.pyplot as plt\n",
    "import seaborn as sns\n",
    "plt.figure(figsize=(7,5))\n",
    "sns.heatmap(cm, annot=True)\n",
    "plt.title('Confusion matrix')\n",
    "plt.xlabel('Predicted')\n",
    "plt.ylabel('True')"
   ]
  },
  {
   "cell_type": "markdown",
   "id": "bef55c91",
   "metadata": {},
   "source": [
    "### Classification report.."
   ]
  },
  {
   "cell_type": "code",
   "execution_count": 35,
   "id": "60aca1f1",
   "metadata": {},
   "outputs": [
    {
     "name": "stdout",
     "output_type": "stream",
     "text": [
      "              precision    recall  f1-score   support\n",
      "\n",
      "           0       1.00      1.00      1.00        14\n",
      "           1       1.00      0.95      0.97        19\n",
      "           2       0.92      1.00      0.96        12\n",
      "\n",
      "    accuracy                           0.98        45\n",
      "   macro avg       0.97      0.98      0.98        45\n",
      "weighted avg       0.98      0.98      0.98        45\n",
      "\n"
     ]
    }
   ],
   "source": [
    "from sklearn.metrics import classification_report\n",
    "\n",
    "print(classification_report(y_pred, y_test))"
   ]
  },
  {
   "cell_type": "code",
   "execution_count": null,
   "id": "d237a2ad",
   "metadata": {},
   "outputs": [],
   "source": []
  }
 ],
 "metadata": {
  "kernelspec": {
   "display_name": "Python 3 (ipykernel)",
   "language": "python",
   "name": "python3"
  },
  "language_info": {
   "codemirror_mode": {
    "name": "ipython",
    "version": 3
   },
   "file_extension": ".py",
   "mimetype": "text/x-python",
   "name": "python",
   "nbconvert_exporter": "python",
   "pygments_lexer": "ipython3",
   "version": "3.9.7"
  }
 },
 "nbformat": 4,
 "nbformat_minor": 5
}
