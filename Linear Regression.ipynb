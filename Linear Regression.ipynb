{
 "cells": [
  {
   "cell_type": "markdown",
   "id": "4668d9a0",
   "metadata": {},
   "source": [
    "   # Linear Regression\n",
    "   \n",
    "\n",
    "\n",
    "   - Linear regression is one of the easiest and most popular Machine Learning algorithms. It is a statistical method that is \n",
    "     used for predictive analysis.\n",
    "     \n",
    "     \n",
    "   - Linear regression makes predictions for continuous/real or numeric variables such as \" sales, salary, age, product, price,\n",
    "     etc\".\n",
    "  \n",
    "  \n",
    "   - Linear regression alogorithm shows a linear relationship between a dependent (y) and one or more independent (y) variables, \n",
    "     hence called as linear regression.\n",
    "     \n",
    "     \n",
    "   - Since linear regression shows the linear relationship, which means it finds how the valueof the dependent variable is            changing according to the value of the independent variable.\n",
    "   \n",
    "   \n",
    "   - The linear regression model provides a sloped stright line representing the relationship between the variables. \n",
    "       \n",
    "       \n",
    "       - consider the below image..\n",
    "   "
   ]
  },
  {
   "cell_type": "markdown",
   "id": "929f862d",
   "metadata": {},
   "source": [
    "<img src =\"https://higherlogicdownload.s3.amazonaws.com/IMWUC/UploadedImages/92757287-d116-4157-b004-c2a0aba1b048/linear-regression-in-machine-learning.png\"/>"
   ]
  },
  {
   "cell_type": "markdown",
   "id": "7d60ec94",
   "metadata": {},
   "source": [
    "# Y - predicted:-"
   ]
  },
  {
   "cell_type": "markdown",
   "id": "fb399740",
   "metadata": {},
   "source": [
    "$$y = m*x+c$$"
   ]
  },
  {
   "cell_type": "markdown",
   "id": "6e9bdefb",
   "metadata": {},
   "source": [
    "## Finding m value:-"
   ]
  },
  {
   "cell_type": "markdown",
   "id": "77038750",
   "metadata": {},
   "source": [
    "$$m = \\frac{(n * \\sum_{i=0}^{n} X_{i} * Y_{i}) - (\\sum_{i=0}^{n} X * \\sum_{i=0}^{n} Y)}\n",
    "{(n*\\sum_{i=0}^{n}X^{2}) - (\\sum_{i=0}^{n}X)^2}$$"
   ]
  },
  {
   "cell_type": "markdown",
   "id": "f0eb8f89",
   "metadata": {},
   "source": [
    "## Finding b value:-"
   ]
  },
  {
   "cell_type": "markdown",
   "id": "a6af07d7",
   "metadata": {},
   "source": [
    "$$b = \\frac{n * \\sum_{i=0}^{n} Y_{i} - m*(\\sum_{i=0}^{n} X_{i}}\n",
    "n$$"
   ]
  },
  {
   "cell_type": "markdown",
   "id": "d43fb173",
   "metadata": {},
   "source": [
    "# MSE(Mean square error):-\n",
    "\n",
    "  * Mean square error (MSE) is defined as Mean or Average of the square of the difference between \n",
    "    actual and estimated values."
   ]
  },
  {
   "cell_type": "markdown",
   "id": "524f3de6",
   "metadata": {},
   "source": [
    "\n",
    "$$MSE = \\frac{1}\n",
    "n\n",
    "\\sum_{i=0}^{n}( Y_{org} -  Y_{pred})^2 $$\n"
   ]
  },
  {
   "cell_type": "markdown",
   "id": "527d1055",
   "metadata": {},
   "source": [
    "# MAE(Mean absolute error):-\n",
    " \n",
    " \n",
    " * Mean absolute error (MAE) is the sum of the absolute difference between actual and predicted values."
   ]
  },
  {
   "cell_type": "markdown",
   "id": "b73d60e3",
   "metadata": {},
   "source": [
    "$$MAE =\\frac{ \\sum_{i=0}^{n} \\left| Y_{org} - Y_{pred}\\right|}\n",
    "n\n",
    " $$"
   ]
  },
  {
   "cell_type": "code",
   "execution_count": 1,
   "id": "324cf126",
   "metadata": {},
   "outputs": [],
   "source": [
    "import numpy as np\n",
    "import pandas as pd"
   ]
  },
  {
   "cell_type": "code",
   "execution_count": 2,
   "id": "0b4e2bc1",
   "metadata": {},
   "outputs": [],
   "source": [
    "# to define data\n",
    "\n",
    "data = { \"x\" : list(range(1,8)),\n",
    "         \"y\" : [1.5,3.8,6.7,9.0,11.2,13.6,16]\n",
    "       }"
   ]
  },
  {
   "cell_type": "code",
   "execution_count": 3,
   "id": "113554f9",
   "metadata": {},
   "outputs": [
    {
     "data": {
      "text/plain": [
       "{'x': [1, 2, 3, 4, 5, 6, 7], 'y': [1.5, 3.8, 6.7, 9.0, 11.2, 13.6, 16]}"
      ]
     },
     "execution_count": 3,
     "metadata": {},
     "output_type": "execute_result"
    }
   ],
   "source": [
    "data\n"
   ]
  },
  {
   "cell_type": "code",
   "execution_count": 4,
   "id": "dc0213f4",
   "metadata": {},
   "outputs": [],
   "source": [
    "# convert data into dataframe\n",
    "\n",
    "df = pd.DataFrame(data)"
   ]
  },
  {
   "cell_type": "code",
   "execution_count": 5,
   "id": "cf5aa03f",
   "metadata": {},
   "outputs": [
    {
     "data": {
      "text/html": [
       "<div>\n",
       "<style scoped>\n",
       "    .dataframe tbody tr th:only-of-type {\n",
       "        vertical-align: middle;\n",
       "    }\n",
       "\n",
       "    .dataframe tbody tr th {\n",
       "        vertical-align: top;\n",
       "    }\n",
       "\n",
       "    .dataframe thead th {\n",
       "        text-align: right;\n",
       "    }\n",
       "</style>\n",
       "<table border=\"1\" class=\"dataframe\">\n",
       "  <thead>\n",
       "    <tr style=\"text-align: right;\">\n",
       "      <th></th>\n",
       "      <th>x</th>\n",
       "      <th>y</th>\n",
       "    </tr>\n",
       "  </thead>\n",
       "  <tbody>\n",
       "    <tr>\n",
       "      <th>0</th>\n",
       "      <td>1</td>\n",
       "      <td>1.5</td>\n",
       "    </tr>\n",
       "    <tr>\n",
       "      <th>1</th>\n",
       "      <td>2</td>\n",
       "      <td>3.8</td>\n",
       "    </tr>\n",
       "    <tr>\n",
       "      <th>2</th>\n",
       "      <td>3</td>\n",
       "      <td>6.7</td>\n",
       "    </tr>\n",
       "    <tr>\n",
       "      <th>3</th>\n",
       "      <td>4</td>\n",
       "      <td>9.0</td>\n",
       "    </tr>\n",
       "    <tr>\n",
       "      <th>4</th>\n",
       "      <td>5</td>\n",
       "      <td>11.2</td>\n",
       "    </tr>\n",
       "    <tr>\n",
       "      <th>5</th>\n",
       "      <td>6</td>\n",
       "      <td>13.6</td>\n",
       "    </tr>\n",
       "    <tr>\n",
       "      <th>6</th>\n",
       "      <td>7</td>\n",
       "      <td>16.0</td>\n",
       "    </tr>\n",
       "  </tbody>\n",
       "</table>\n",
       "</div>"
      ],
      "text/plain": [
       "   x     y\n",
       "0  1   1.5\n",
       "1  2   3.8\n",
       "2  3   6.7\n",
       "3  4   9.0\n",
       "4  5  11.2\n",
       "5  6  13.6\n",
       "6  7  16.0"
      ]
     },
     "execution_count": 5,
     "metadata": {},
     "output_type": "execute_result"
    }
   ],
   "source": [
    "df"
   ]
  },
  {
   "cell_type": "code",
   "execution_count": 6,
   "id": "d661121a",
   "metadata": {},
   "outputs": [
    {
     "data": {
      "text/plain": [
       "7"
      ]
     },
     "execution_count": 6,
     "metadata": {},
     "output_type": "execute_result"
    }
   ],
   "source": [
    "len(df)"
   ]
  },
  {
   "cell_type": "code",
   "execution_count": 7,
   "id": "34dc0b25",
   "metadata": {},
   "outputs": [
    {
     "data": {
      "text/html": [
       "<div>\n",
       "<style scoped>\n",
       "    .dataframe tbody tr th:only-of-type {\n",
       "        vertical-align: middle;\n",
       "    }\n",
       "\n",
       "    .dataframe tbody tr th {\n",
       "        vertical-align: top;\n",
       "    }\n",
       "\n",
       "    .dataframe thead th {\n",
       "        text-align: right;\n",
       "    }\n",
       "</style>\n",
       "<table border=\"1\" class=\"dataframe\">\n",
       "  <thead>\n",
       "    <tr style=\"text-align: right;\">\n",
       "      <th></th>\n",
       "      <th>x</th>\n",
       "      <th>y</th>\n",
       "      <th>xy</th>\n",
       "    </tr>\n",
       "  </thead>\n",
       "  <tbody>\n",
       "    <tr>\n",
       "      <th>0</th>\n",
       "      <td>1</td>\n",
       "      <td>1.5</td>\n",
       "      <td>1.5</td>\n",
       "    </tr>\n",
       "    <tr>\n",
       "      <th>1</th>\n",
       "      <td>2</td>\n",
       "      <td>3.8</td>\n",
       "      <td>7.6</td>\n",
       "    </tr>\n",
       "    <tr>\n",
       "      <th>2</th>\n",
       "      <td>3</td>\n",
       "      <td>6.7</td>\n",
       "      <td>20.1</td>\n",
       "    </tr>\n",
       "    <tr>\n",
       "      <th>3</th>\n",
       "      <td>4</td>\n",
       "      <td>9.0</td>\n",
       "      <td>36.0</td>\n",
       "    </tr>\n",
       "    <tr>\n",
       "      <th>4</th>\n",
       "      <td>5</td>\n",
       "      <td>11.2</td>\n",
       "      <td>56.0</td>\n",
       "    </tr>\n",
       "    <tr>\n",
       "      <th>5</th>\n",
       "      <td>6</td>\n",
       "      <td>13.6</td>\n",
       "      <td>81.6</td>\n",
       "    </tr>\n",
       "    <tr>\n",
       "      <th>6</th>\n",
       "      <td>7</td>\n",
       "      <td>16.0</td>\n",
       "      <td>112.0</td>\n",
       "    </tr>\n",
       "  </tbody>\n",
       "</table>\n",
       "</div>"
      ],
      "text/plain": [
       "   x     y     xy\n",
       "0  1   1.5    1.5\n",
       "1  2   3.8    7.6\n",
       "2  3   6.7   20.1\n",
       "3  4   9.0   36.0\n",
       "4  5  11.2   56.0\n",
       "5  6  13.6   81.6\n",
       "6  7  16.0  112.0"
      ]
     },
     "execution_count": 7,
     "metadata": {},
     "output_type": "execute_result"
    }
   ],
   "source": [
    "# to add the column xy\n",
    "\n",
    "df['xy'] = df['x'] * df['y']\n",
    "df"
   ]
  },
  {
   "cell_type": "code",
   "execution_count": 8,
   "id": "4d2fc179",
   "metadata": {},
   "outputs": [
    {
     "data": {
      "text/html": [
       "<div>\n",
       "<style scoped>\n",
       "    .dataframe tbody tr th:only-of-type {\n",
       "        vertical-align: middle;\n",
       "    }\n",
       "\n",
       "    .dataframe tbody tr th {\n",
       "        vertical-align: top;\n",
       "    }\n",
       "\n",
       "    .dataframe thead th {\n",
       "        text-align: right;\n",
       "    }\n",
       "</style>\n",
       "<table border=\"1\" class=\"dataframe\">\n",
       "  <thead>\n",
       "    <tr style=\"text-align: right;\">\n",
       "      <th></th>\n",
       "      <th>x</th>\n",
       "      <th>y</th>\n",
       "      <th>xy</th>\n",
       "      <th>sqr_x</th>\n",
       "    </tr>\n",
       "  </thead>\n",
       "  <tbody>\n",
       "    <tr>\n",
       "      <th>0</th>\n",
       "      <td>1</td>\n",
       "      <td>1.5</td>\n",
       "      <td>1.5</td>\n",
       "      <td>1</td>\n",
       "    </tr>\n",
       "    <tr>\n",
       "      <th>1</th>\n",
       "      <td>2</td>\n",
       "      <td>3.8</td>\n",
       "      <td>7.6</td>\n",
       "      <td>4</td>\n",
       "    </tr>\n",
       "    <tr>\n",
       "      <th>2</th>\n",
       "      <td>3</td>\n",
       "      <td>6.7</td>\n",
       "      <td>20.1</td>\n",
       "      <td>9</td>\n",
       "    </tr>\n",
       "    <tr>\n",
       "      <th>3</th>\n",
       "      <td>4</td>\n",
       "      <td>9.0</td>\n",
       "      <td>36.0</td>\n",
       "      <td>16</td>\n",
       "    </tr>\n",
       "    <tr>\n",
       "      <th>4</th>\n",
       "      <td>5</td>\n",
       "      <td>11.2</td>\n",
       "      <td>56.0</td>\n",
       "      <td>25</td>\n",
       "    </tr>\n",
       "    <tr>\n",
       "      <th>5</th>\n",
       "      <td>6</td>\n",
       "      <td>13.6</td>\n",
       "      <td>81.6</td>\n",
       "      <td>36</td>\n",
       "    </tr>\n",
       "    <tr>\n",
       "      <th>6</th>\n",
       "      <td>7</td>\n",
       "      <td>16.0</td>\n",
       "      <td>112.0</td>\n",
       "      <td>49</td>\n",
       "    </tr>\n",
       "  </tbody>\n",
       "</table>\n",
       "</div>"
      ],
      "text/plain": [
       "   x     y     xy  sqr_x\n",
       "0  1   1.5    1.5      1\n",
       "1  2   3.8    7.6      4\n",
       "2  3   6.7   20.1      9\n",
       "3  4   9.0   36.0     16\n",
       "4  5  11.2   56.0     25\n",
       "5  6  13.6   81.6     36\n",
       "6  7  16.0  112.0     49"
      ]
     },
     "execution_count": 8,
     "metadata": {},
     "output_type": "execute_result"
    }
   ],
   "source": [
    "# to add the column sruare of x --- sqr_x\n",
    "\n",
    "df['sqr_x'] = df['x'] ** 2\n",
    "df"
   ]
  },
  {
   "cell_type": "code",
   "execution_count": 9,
   "id": "3eff1b60",
   "metadata": {},
   "outputs": [],
   "source": [
    "n = len(df)\n",
    "sum_x = df['x'].sum()\n",
    "sum_y = df['y'].sum()\n",
    "sum_xy = df['xy'].sum()\n",
    "sum_sqr_x = df['sqr_x'].sum()\n",
    "sum_whl_sqrx = sum_x ** 2\n",
    "        "
   ]
  },
  {
   "cell_type": "code",
   "execution_count": 10,
   "id": "e5d71554",
   "metadata": {},
   "outputs": [
    {
     "data": {
      "text/plain": [
       "(7, 28, 61.800000000000004, 314.8, 140, 784)"
      ]
     },
     "execution_count": 10,
     "metadata": {},
     "output_type": "execute_result"
    }
   ],
   "source": [
    "n, sum_x, sum_y, sum_xy, sum_sqr_x, sum_whl_sqrx"
   ]
  },
  {
   "cell_type": "code",
   "execution_count": 11,
   "id": "7f8fffef",
   "metadata": {},
   "outputs": [],
   "source": [
    "num_m = n*((sum_xy)) - (sum_x)*(sum_y)\n",
    "den_m = n*((sum_sqr_x)) - (sum_whl_sqrx)\n",
    "m = num_m / den_m"
   ]
  },
  {
   "cell_type": "code",
   "execution_count": 12,
   "id": "38489a04",
   "metadata": {},
   "outputs": [
    {
     "name": "stdout",
     "output_type": "stream",
     "text": [
      "m value is : 2.4142857142857133\n"
     ]
    }
   ],
   "source": [
    "\n",
    "print(\"m value is :\",m)"
   ]
  },
  {
   "cell_type": "code",
   "execution_count": 14,
   "id": "8442c781",
   "metadata": {},
   "outputs": [],
   "source": [
    "num_b = (sum_y) - m*(sum_x)\n",
    "den_b = n\n",
    "b = num_b / den_b\n",
    "        "
   ]
  },
  {
   "cell_type": "code",
   "execution_count": 15,
   "id": "adb9f793",
   "metadata": {},
   "outputs": [
    {
     "name": "stdout",
     "output_type": "stream",
     "text": [
      "b value is: -0.8285714285714231\n"
     ]
    }
   ],
   "source": [
    "print(\"b value is:\",b)"
   ]
  },
  {
   "cell_type": "code",
   "execution_count": 21,
   "id": "ff333c56",
   "metadata": {},
   "outputs": [
    {
     "data": {
      "text/plain": [
       "0     1.5\n",
       "1     3.8\n",
       "2     6.7\n",
       "3     9.0\n",
       "4    11.2\n",
       "5    13.6\n",
       "6    16.0\n",
       "Name: y, dtype: float64"
      ]
     },
     "execution_count": 21,
     "metadata": {},
     "output_type": "execute_result"
    }
   ],
   "source": [
    "y_org = df['y']\n",
    "y_org"
   ]
  },
  {
   "cell_type": "code",
   "execution_count": 24,
   "id": "18e4ad7e",
   "metadata": {},
   "outputs": [
    {
     "name": "stdout",
     "output_type": "stream",
     "text": [
      "y predict value is:  [1.5857142857142903, 4.0000000000000036, 6.414285714285717, 8.82857142857143, 11.242857142857142, 13.657142857142857, 16.07142857142857]\n"
     ]
    },
    {
     "data": {
      "text/html": [
       "<div>\n",
       "<style scoped>\n",
       "    .dataframe tbody tr th:only-of-type {\n",
       "        vertical-align: middle;\n",
       "    }\n",
       "\n",
       "    .dataframe tbody tr th {\n",
       "        vertical-align: top;\n",
       "    }\n",
       "\n",
       "    .dataframe thead th {\n",
       "        text-align: right;\n",
       "    }\n",
       "</style>\n",
       "<table border=\"1\" class=\"dataframe\">\n",
       "  <thead>\n",
       "    <tr style=\"text-align: right;\">\n",
       "      <th></th>\n",
       "      <th>x</th>\n",
       "      <th>y</th>\n",
       "      <th>xy</th>\n",
       "      <th>sqr_x</th>\n",
       "      <th>y_org</th>\n",
       "      <th>y_pred</th>\n",
       "    </tr>\n",
       "  </thead>\n",
       "  <tbody>\n",
       "    <tr>\n",
       "      <th>0</th>\n",
       "      <td>1</td>\n",
       "      <td>1.5</td>\n",
       "      <td>1.5</td>\n",
       "      <td>1</td>\n",
       "      <td>1.5</td>\n",
       "      <td>1.585714</td>\n",
       "    </tr>\n",
       "    <tr>\n",
       "      <th>1</th>\n",
       "      <td>2</td>\n",
       "      <td>3.8</td>\n",
       "      <td>7.6</td>\n",
       "      <td>4</td>\n",
       "      <td>3.8</td>\n",
       "      <td>4.000000</td>\n",
       "    </tr>\n",
       "    <tr>\n",
       "      <th>2</th>\n",
       "      <td>3</td>\n",
       "      <td>6.7</td>\n",
       "      <td>20.1</td>\n",
       "      <td>9</td>\n",
       "      <td>6.7</td>\n",
       "      <td>6.414286</td>\n",
       "    </tr>\n",
       "    <tr>\n",
       "      <th>3</th>\n",
       "      <td>4</td>\n",
       "      <td>9.0</td>\n",
       "      <td>36.0</td>\n",
       "      <td>16</td>\n",
       "      <td>9.0</td>\n",
       "      <td>8.828571</td>\n",
       "    </tr>\n",
       "    <tr>\n",
       "      <th>4</th>\n",
       "      <td>5</td>\n",
       "      <td>11.2</td>\n",
       "      <td>56.0</td>\n",
       "      <td>25</td>\n",
       "      <td>11.2</td>\n",
       "      <td>11.242857</td>\n",
       "    </tr>\n",
       "    <tr>\n",
       "      <th>5</th>\n",
       "      <td>6</td>\n",
       "      <td>13.6</td>\n",
       "      <td>81.6</td>\n",
       "      <td>36</td>\n",
       "      <td>13.6</td>\n",
       "      <td>13.657143</td>\n",
       "    </tr>\n",
       "    <tr>\n",
       "      <th>6</th>\n",
       "      <td>7</td>\n",
       "      <td>16.0</td>\n",
       "      <td>112.0</td>\n",
       "      <td>49</td>\n",
       "      <td>16.0</td>\n",
       "      <td>16.071429</td>\n",
       "    </tr>\n",
       "  </tbody>\n",
       "</table>\n",
       "</div>"
      ],
      "text/plain": [
       "   x     y     xy  sqr_x  y_org     y_pred\n",
       "0  1   1.5    1.5      1    1.5   1.585714\n",
       "1  2   3.8    7.6      4    3.8   4.000000\n",
       "2  3   6.7   20.1      9    6.7   6.414286\n",
       "3  4   9.0   36.0     16    9.0   8.828571\n",
       "4  5  11.2   56.0     25   11.2  11.242857\n",
       "5  6  13.6   81.6     36   13.6  13.657143\n",
       "6  7  16.0  112.0     49   16.0  16.071429"
      ]
     },
     "execution_count": 24,
     "metadata": {},
     "output_type": "execute_result"
    }
   ],
   "source": [
    "df['y_pred'] = [(m*x_val) + b for x_val in df['x']]\n",
    "print(\"y predict value is: \",y_pred)\n",
    "df"
   ]
  },
  {
   "cell_type": "code",
   "execution_count": 33,
   "id": "c27d0f71",
   "metadata": {},
   "outputs": [],
   "source": [
    "diff1 = []\n",
    "for y_org, y_pre in zip(df['y'],y_pred):\n",
    "    \n",
    "    diff = (y_org - y_pre) ** 2\n",
    "    diff1.append(diff)\n",
    "sse = sum(diff1)        \n",
    "mse = (1/n) * (sse)"
   ]
  },
  {
   "cell_type": "code",
   "execution_count": 34,
   "id": "a37ec7ad",
   "metadata": {},
   "outputs": [
    {
     "name": "stdout",
     "output_type": "stream",
     "text": [
      "MSE : 0.024081632653061246\n"
     ]
    }
   ],
   "source": [
    "print(\"MSE :\",mse)"
   ]
  },
  {
   "cell_type": "code",
   "execution_count": 35,
   "id": "4b8d7ce4",
   "metadata": {},
   "outputs": [],
   "source": [
    "diff1 =[]\n",
    "for y_org, y_pre in zip(df['y'],y_pred):\n",
    "    diff = abs(y_org - y_pre)    # here abs for modulus\n",
    "    diff1.append(diff)\n",
    "ae = sum(diff1)\n",
    "mae = ae / n"
   ]
  },
  {
   "cell_type": "code",
   "execution_count": 36,
   "id": "01f96d29",
   "metadata": {},
   "outputs": [
    {
     "name": "stdout",
     "output_type": "stream",
     "text": [
      "MAE : 0.13061224489795956\n"
     ]
    }
   ],
   "source": [
    "print(\"MAE :\",mae)"
   ]
  },
  {
   "cell_type": "code",
   "execution_count": 37,
   "id": "d8a7aa16",
   "metadata": {},
   "outputs": [],
   "source": [
    "# using class we define all the values\n",
    "\n",
    "        \n",
    "class Linear_Regression:\n",
    "    \n",
    "    def __init__(self,df):\n",
    "        self.n = len(df)\n",
    "        self.sum_x = df['x'].sum()\n",
    "        self.sum_y = df['y'].sum()\n",
    "        self.sum_xy = df['xy'].sum()\n",
    "        self.sum_sqr_x = df['sqr_x'].sum()\n",
    "        self.sum_whl_sqrx = sum_x ** 2\n",
    "        \n",
    "        \n",
    "        \n",
    "    def m_val(self,n,sum_x,sum_y,sum_xy,sum_sqr_x,sum_whl_sqrx):  # to find m value\n",
    "        self.num_m = n*((sum_xy)) - (sum_x)*(sum_y)\n",
    "        self.den_m = n*((sum_sqr_x)) - (sum_whl_sqrx)\n",
    "        self.m = self.num_m / self.den_m\n",
    "        return self.m\n",
    "    \n",
    "    def b_val(self,n, sum_x, sum_y):   # to find b value\n",
    "        self.num_b = (sum_y) - m*(sum_x)\n",
    "        self.den_b = n\n",
    "        self.b = self.num_b / self.den_b\n",
    "        return self.b\n",
    "    \n",
    "    def fit_train(self,m,b,df):   # to find y predicted value --y_pred = mx +c\n",
    "        self.y_pred = [(m*x_val) + b for x_val in df['x']]\n",
    "        return self.y_pred\n",
    "    \n",
    "    def mse_val(self,df,y_pred):   # to find the mean square error\n",
    "        diff1 = []\n",
    "        for y_org, y_pre in zip(df['y'],y_pred):\n",
    "            diff = (y_org - y_pre) ** 2\n",
    "            diff1.append(diff)\n",
    "        sse = sum(diff1)        \n",
    "        mse = (1/n) * (sse)\n",
    "        return mse\n",
    "    \n",
    "    def mae_val(self,df,y_pred):   # to find mean absolute error\n",
    "        diff1 =[]\n",
    "        for y_org, y_pre in zip(df['y'],y_pred):\n",
    "            diff = abs(y_org - y_pre)    # here abs for modulus\n",
    "            diff1.append(diff)\n",
    "        ae = sum(diff1)\n",
    "        mae = ae / n\n",
    "        return mae\n",
    "    \n",
    " "
   ]
  },
  {
   "cell_type": "code",
   "execution_count": 26,
   "id": "807f7751",
   "metadata": {},
   "outputs": [
    {
     "name": "stdout",
     "output_type": "stream",
     "text": [
      "m value : 2.4142857142857133\n"
     ]
    }
   ],
   "source": [
    "# to print m value\n",
    "\n",
    "m_obj = Linear_Regression(df)     # object declaration for m means slope\n",
    "m_obj.m_val(n,sum_x,sum_y,sum_xy,sum_sqr_x,sum_whl_sqrx)  # obj. methodname()\n",
    "print('m value :', m)"
   ]
  },
  {
   "cell_type": "code",
   "execution_count": 27,
   "id": "e8487f83",
   "metadata": {},
   "outputs": [
    {
     "name": "stdout",
     "output_type": "stream",
     "text": [
      "b value is : -0.8285714285714231\n"
     ]
    }
   ],
   "source": [
    "# to print b value\n",
    "\n",
    "b_obj = Linear_Regression(df)\n",
    "b_obj.b_val(n, sum_x, sum_y)\n",
    "print('b value is :',b)"
   ]
  },
  {
   "cell_type": "code",
   "execution_count": 29,
   "id": "cf6894a4",
   "metadata": {},
   "outputs": [
    {
     "name": "stdout",
     "output_type": "stream",
     "text": [
      "y predict value is: [1.5857142857142903, 4.0000000000000036, 6.414285714285717, 8.82857142857143, 11.242857142857142, 13.657142857142857, 16.07142857142857]\n"
     ]
    }
   ],
   "source": [
    "# to print y predict value\n",
    "\n",
    "y_pred_obj = Linear_Regression(df)\n",
    "y_pred_obj.fit_train(m,b,df)\n",
    "print('y predict value is:',y_pred)"
   ]
  },
  {
   "cell_type": "code",
   "execution_count": 38,
   "id": "f243b6c4",
   "metadata": {},
   "outputs": [
    {
     "name": "stdout",
     "output_type": "stream",
     "text": [
      "Mean square error is : 0.024081632653061246\n"
     ]
    }
   ],
   "source": [
    "mse_obj = Linear_Regression(df)\n",
    "mse_obj.mse_val(df,y_pred)\n",
    "print('Mean square error is :',mse)"
   ]
  },
  {
   "cell_type": "code",
   "execution_count": 39,
   "id": "1195751e",
   "metadata": {},
   "outputs": [
    {
     "name": "stdout",
     "output_type": "stream",
     "text": [
      "Mean absolute error is : 0.13061224489795956\n"
     ]
    }
   ],
   "source": [
    "mae_obj = Linear_Regression(df)\n",
    "mae_obj.mae_val(df,y_pred)\n",
    "print('Mean absolute error is :',mae)"
   ]
  },
  {
   "cell_type": "code",
   "execution_count": 55,
   "id": "052db6e1",
   "metadata": {},
   "outputs": [
    {
     "data": {
      "image/png": "[encoded data removed]",
      "text/plain": [
       "<Figure size 864x576 with 1 Axes>"
      ]
     },
     "metadata": {
      "needs_background": "light"
     },
     "output_type": "display_data"
    }
   ],
   "source": [
    "# data visualization...\n",
    "\n",
    "import matplotlib.pyplot as plt\n",
    "plt.figure(figsize=(12,8))\n",
    "\n",
    "x_val = df['x']\n",
    "y_org = df['y']\n",
    "y_pred = y_pred\n",
    "\n",
    "plt.plot(x_val,y_org,color='g')\n",
    "plt.scatter(x_val,y_org,label='blue=original value')\n",
    "plt.scatter(x_val,y_pred,label='orange=predicted value')\n",
    "plt.title('Linear Regression',size = 24,color='red')\n",
    "plt.xlabel('x_values',fontdict={'color':'green','size':20})\n",
    "plt.ylabel('y_values',fontdict={'color':'green','size':20})\n",
    "plt.legend()\n",
    "plt.grid()\n",
    "plt.show()"
   ]
  },
  {
   "cell_type": "code",
   "execution_count": null,
   "id": "7cfcadca",
   "metadata": {},
   "outputs": [],
   "source": []
  }
 ],
 "metadata": {
  "kernelspec": {
   "display_name": "Python 3 (ipykernel)",
   "language": "python",
   "name": "python3"
  },
  "language_info": {
   "codemirror_mode": {
    "name": "ipython",
    "version": 3
   },
   "file_extension": ".py",
   "mimetype": "text/x-python",
   "name": "python",
   "nbconvert_exporter": "python",
   "pygments_lexer": "ipython3",
   "version": "3.9.7"
  }
 },
 "nbformat": 4,
 "nbformat_minor": 5
}
