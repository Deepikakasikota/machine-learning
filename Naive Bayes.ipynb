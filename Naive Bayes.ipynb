{
 "cells": [
  {
   "cell_type": "markdown",
   "id": "33680e6a",
   "metadata": {},
   "source": [
    "# Naive Bayes Classifier Algorithm"
   ]
  },
  {
   "cell_type": "markdown",
   "id": "cb27b365",
   "metadata": {},
   "source": [
    "- Naive Bayes algorithm is a supervised learning algorithm, which is based on \"Bayes theorem\" and used for\n",
    "  solving classification problems.\n",
    "    \n",
    "- it is mainly used in text classification that includes a high-dimensional training datasset.\n",
    "\n",
    "- Naive Bayes classifier is one of the simple and most effective classification algorithms which helps in building \n",
    "  the fast machine learning models that can make quick predictions.\n",
    "    \n",
    "- It is a probabilistic classifier, which means it predicts on the basis of the probability of an object.\n",
    "\n",
    "- Some popular examples of Naive Bayes Algorithm are \" spam filtration, Sentimental analysis, and classifying articles\". "
   ]
  },
  {
   "cell_type": "markdown",
   "id": "5bcb657e",
   "metadata": {},
   "source": [
    "## Why is it called ' Naive Bayes ' ?"
   ]
  },
  {
   "cell_type": "markdown",
   "id": "b906cff1",
   "metadata": {},
   "source": [
    "The Naive Bayes algorithm is comprised of two words \"Naive\" and \"Bayes\", which can be described as:\n",
    "       \n",
    "   #### - Naive:\n",
    "    \n",
    "   It is called 'Naive' because it assumes that the occurance of a certain feature is independent of the occurance\n",
    "   of other features. Such as if the fruit is identified on the bases of color, shape, and taste means red, spherical,\n",
    "   and sweet fruit is recognized as an apple without depending on each other.\n",
    "             \n",
    "   #### - Bayes:    \n",
    "    \n",
    "   It is called 'Bayes' because it depends on the principle of \"Bayes Theorem\"."
   ]
  },
  {
   "cell_type": "markdown",
   "id": "12d8c3b1",
   "metadata": {},
   "source": [
    "## Bayes' Theorem:\n",
    "\n",
    "- Bayes' Theorem is also known as \"Bayes' Rule\" or \"Bayess' Law\", which is used to determine the probability of a\n",
    "  hypothesis with prior knowledge. I t depends on the conditional probability.\n",
    "    \n",
    "- The formula Bayes Theorem is given as:\n",
    " "
   ]
  },
  {
   "cell_type": "markdown",
   "id": "5c0f3d12",
   "metadata": {},
   "source": [
    "<img src=\"https://miro.medium.com/max/792/1*9lA2z-Yz254sXCyHqYMoeQ.png\"/>"
   ]
  },
  {
   "cell_type": "markdown",
   "id": "0b1bce50",
   "metadata": {},
   "source": [
    "## Types of Naive Bayes Model:\n",
    "\n",
    " There are three types of Naive Bayes model, which are given below:\n",
    " \n",
    "#### 1.Bernoulli:\n",
    "\n",
    " It assumes that all our features are binary such that they take only two values. Means '0s' can represent \"word does not\n",
    " occur in the document\" and '1s' as \"word occuresin the document\".\n",
    " \n",
    " \n",
    "#### 2. Mulitinomial Naive Bayes:\n",
    "\n",
    " It is used when we have 'discrete data(e.g. movie ratings ranging 1 and 5 as each rating will have certain 'frequency' to\n",
    " represent). In text learning we have the count of each word to predict the class or label.\n",
    " \n",
    "\n",
    "#### 3. Gaussian Naive Bayes:\n",
    "\n",
    " Because of the assumption of the 'normal distribution', Gaussian Naive Bayes is used in cases when all our features are\n",
    " 'continuous'. For example in iris dataset features are sepal width, petal width, sepal length, petal length. So its features \n",
    " can have different values in dataset as width and length can vary. We can't representfeatures in terms of their occurances.\n",
    " This means data is continuous. Hence we use Naive Bayes here.\n",
    " "
   ]
  },
  {
   "cell_type": "markdown",
   "id": "51f6b5d2",
   "metadata": {},
   "source": [
    "## Advantages of Naive Bayes Classifier:\n",
    "\n",
    "- Naive Bayes is one of the fast and easy ML algorithms to predict a class of datasets.\n",
    "\n",
    "- It can be used for Binary as well as Multi-class Classifications.\n",
    "\n",
    "- I t performs well in Multi-class predictions as compared to the other Algorithms.\n",
    "\n",
    "- It is the most popular choice for 'Text classification problems'.\n",
    "\n",
    "\n",
    "## Disadvantages of Naive Bayes Classifier:\n",
    "\n",
    "- Naive Bayes assumes that all features are independent or unrelated, so it cannot learn the relationship between\n",
    "  features."
   ]
  },
  {
   "cell_type": "markdown",
   "id": "d4a4d46c",
   "metadata": {},
   "source": [
    "## Applications of Naive Bayes Classifier:\n",
    "\n",
    "- It is used for Credit Scoring.\n",
    "\n",
    "\n",
    "- It is used in Medical data classification.\n",
    "\n",
    "\n",
    "- It can be used in Real-time predictionns because Naive Bayes classifier is an eager learner.\n",
    "\n",
    "\n",
    "- It is used in Text classification such as Spam filtering and Sentimental analysis."
   ]
  },
  {
   "cell_type": "markdown",
   "id": "cfba9815",
   "metadata": {},
   "source": [
    "### Here I used email dataset to perform Naive Bayes classifier."
   ]
  },
  {
   "cell_type": "code",
   "execution_count": 1,
   "id": "80572f82",
   "metadata": {},
   "outputs": [],
   "source": [
    "# import required libraries..\n",
    "\n",
    "import numpy as np\n",
    "import pandas as pd"
   ]
  },
  {
   "cell_type": "code",
   "execution_count": 2,
   "id": "5ca3aa7f",
   "metadata": {},
   "outputs": [
    {
     "data": {
      "text/html": [
       "<div>\n",
       "<style scoped>\n",
       "    .dataframe tbody tr th:only-of-type {\n",
       "        vertical-align: middle;\n",
       "    }\n",
       "\n",
       "    .dataframe tbody tr th {\n",
       "        vertical-align: top;\n",
       "    }\n",
       "\n",
       "    .dataframe thead th {\n",
       "        text-align: right;\n",
       "    }\n",
       "</style>\n",
       "<table border=\"1\" class=\"dataframe\">\n",
       "  <thead>\n",
       "    <tr style=\"text-align: right;\">\n",
       "      <th></th>\n",
       "      <th>Category</th>\n",
       "      <th>Message</th>\n",
       "    </tr>\n",
       "  </thead>\n",
       "  <tbody>\n",
       "    <tr>\n",
       "      <th>0</th>\n",
       "      <td>ham</td>\n",
       "      <td>Go until jurong point, crazy.. Available only ...</td>\n",
       "    </tr>\n",
       "    <tr>\n",
       "      <th>1</th>\n",
       "      <td>ham</td>\n",
       "      <td>Ok lar... Joking wif u oni...</td>\n",
       "    </tr>\n",
       "    <tr>\n",
       "      <th>2</th>\n",
       "      <td>spam</td>\n",
       "      <td>Free entry in 2 a wkly comp to win FA Cup fina...</td>\n",
       "    </tr>\n",
       "    <tr>\n",
       "      <th>3</th>\n",
       "      <td>ham</td>\n",
       "      <td>U dun say so early hor... U c already then say...</td>\n",
       "    </tr>\n",
       "    <tr>\n",
       "      <th>4</th>\n",
       "      <td>ham</td>\n",
       "      <td>Nah I don't think he goes to usf, he lives aro...</td>\n",
       "    </tr>\n",
       "  </tbody>\n",
       "</table>\n",
       "</div>"
      ],
      "text/plain": [
       "  Category                                            Message\n",
       "0      ham  Go until jurong point, crazy.. Available only ...\n",
       "1      ham                      Ok lar... Joking wif u oni...\n",
       "2     spam  Free entry in 2 a wkly comp to win FA Cup fina...\n",
       "3      ham  U dun say so early hor... U c already then say...\n",
       "4      ham  Nah I don't think he goes to usf, he lives aro..."
      ]
     },
     "execution_count": 2,
     "metadata": {},
     "output_type": "execute_result"
    }
   ],
   "source": [
    "# load the dataset..\n",
    "\n",
    "df = pd.read_csv(\"https://raw.githubusercontent.com/codebasics/py/master/ML/14_naive_bayes/spam.csv\")\n",
    "df.head()"
   ]
  },
  {
   "cell_type": "code",
   "execution_count": 3,
   "id": "b68a692b",
   "metadata": {},
   "outputs": [
    {
     "data": {
      "text/html": [
       "<div>\n",
       "<style scoped>\n",
       "    .dataframe tbody tr th:only-of-type {\n",
       "        vertical-align: middle;\n",
       "    }\n",
       "\n",
       "    .dataframe tbody tr th {\n",
       "        vertical-align: top;\n",
       "    }\n",
       "\n",
       "    .dataframe thead tr th {\n",
       "        text-align: left;\n",
       "    }\n",
       "\n",
       "    .dataframe thead tr:last-of-type th {\n",
       "        text-align: right;\n",
       "    }\n",
       "</style>\n",
       "<table border=\"1\" class=\"dataframe\">\n",
       "  <thead>\n",
       "    <tr>\n",
       "      <th></th>\n",
       "      <th colspan=\"4\" halign=\"left\">Message</th>\n",
       "    </tr>\n",
       "    <tr>\n",
       "      <th></th>\n",
       "      <th>count</th>\n",
       "      <th>unique</th>\n",
       "      <th>top</th>\n",
       "      <th>freq</th>\n",
       "    </tr>\n",
       "    <tr>\n",
       "      <th>Category</th>\n",
       "      <th></th>\n",
       "      <th></th>\n",
       "      <th></th>\n",
       "      <th></th>\n",
       "    </tr>\n",
       "  </thead>\n",
       "  <tbody>\n",
       "    <tr>\n",
       "      <th>ham</th>\n",
       "      <td>4825</td>\n",
       "      <td>4516</td>\n",
       "      <td>Sorry, I'll call later</td>\n",
       "      <td>30</td>\n",
       "    </tr>\n",
       "    <tr>\n",
       "      <th>spam</th>\n",
       "      <td>747</td>\n",
       "      <td>641</td>\n",
       "      <td>Please call our customer service representativ...</td>\n",
       "      <td>4</td>\n",
       "    </tr>\n",
       "  </tbody>\n",
       "</table>\n",
       "</div>"
      ],
      "text/plain": [
       "         Message                                                            \\\n",
       "           count unique                                                top   \n",
       "Category                                                                     \n",
       "ham         4825   4516                             Sorry, I'll call later   \n",
       "spam         747    641  Please call our customer service representativ...   \n",
       "\n",
       "               \n",
       "         freq  \n",
       "Category       \n",
       "ham        30  \n",
       "spam        4  "
      ]
     },
     "execution_count": 3,
     "metadata": {},
     "output_type": "execute_result"
    }
   ],
   "source": [
    "# to findout the how many spam and ham massages are present..\n",
    "\n",
    "df.groupby('Category').describe()"
   ]
  },
  {
   "cell_type": "code",
   "execution_count": 4,
   "id": "b48c9530",
   "metadata": {},
   "outputs": [
    {
     "data": {
      "text/html": [
       "<div>\n",
       "<style scoped>\n",
       "    .dataframe tbody tr th:only-of-type {\n",
       "        vertical-align: middle;\n",
       "    }\n",
       "\n",
       "    .dataframe tbody tr th {\n",
       "        vertical-align: top;\n",
       "    }\n",
       "\n",
       "    .dataframe thead th {\n",
       "        text-align: right;\n",
       "    }\n",
       "</style>\n",
       "<table border=\"1\" class=\"dataframe\">\n",
       "  <thead>\n",
       "    <tr style=\"text-align: right;\">\n",
       "      <th></th>\n",
       "      <th>Category</th>\n",
       "      <th>Message</th>\n",
       "      <th>spam</th>\n",
       "    </tr>\n",
       "  </thead>\n",
       "  <tbody>\n",
       "    <tr>\n",
       "      <th>0</th>\n",
       "      <td>ham</td>\n",
       "      <td>Go until jurong point, crazy.. Available only ...</td>\n",
       "      <td>0</td>\n",
       "    </tr>\n",
       "    <tr>\n",
       "      <th>1</th>\n",
       "      <td>ham</td>\n",
       "      <td>Ok lar... Joking wif u oni...</td>\n",
       "      <td>0</td>\n",
       "    </tr>\n",
       "    <tr>\n",
       "      <th>2</th>\n",
       "      <td>spam</td>\n",
       "      <td>Free entry in 2 a wkly comp to win FA Cup fina...</td>\n",
       "      <td>1</td>\n",
       "    </tr>\n",
       "    <tr>\n",
       "      <th>3</th>\n",
       "      <td>ham</td>\n",
       "      <td>U dun say so early hor... U c already then say...</td>\n",
       "      <td>0</td>\n",
       "    </tr>\n",
       "    <tr>\n",
       "      <th>4</th>\n",
       "      <td>ham</td>\n",
       "      <td>Nah I don't think he goes to usf, he lives aro...</td>\n",
       "      <td>0</td>\n",
       "    </tr>\n",
       "  </tbody>\n",
       "</table>\n",
       "</div>"
      ],
      "text/plain": [
       "  Category                                            Message  spam\n",
       "0      ham  Go until jurong point, crazy.. Available only ...     0\n",
       "1      ham                      Ok lar... Joking wif u oni...     0\n",
       "2     spam  Free entry in 2 a wkly comp to win FA Cup fina...     1\n",
       "3      ham  U dun say so early hor... U c already then say...     0\n",
       "4      ham  Nah I don't think he goes to usf, he lives aro...     0"
      ]
     },
     "execution_count": 4,
     "metadata": {},
     "output_type": "execute_result"
    }
   ],
   "source": [
    "# give the binary value to the msgs to create one new column..\n",
    "\n",
    "df['spam'] = df['Category'].apply(lambda x: 1 if x=='spam' else 0)\n",
    "df.head()"
   ]
  },
  {
   "cell_type": "code",
   "execution_count": 5,
   "id": "7e8cfe2b",
   "metadata": {},
   "outputs": [],
   "source": [
    "# train and test the data\n",
    "\n",
    "from sklearn.model_selection import train_test_split\n",
    "x_train, x_test, y_train, y_test = train_test_split(df.Message, df.spam, test_size=0.2, random_state=42)"
   ]
  },
  {
   "cell_type": "code",
   "execution_count": 27,
   "id": "17a49290",
   "metadata": {},
   "outputs": [
    {
     "data": {
      "text/plain": [
       "((4457,), (1115,), (4457,), (1115,))"
      ]
     },
     "execution_count": 27,
     "metadata": {},
     "output_type": "execute_result"
    }
   ],
   "source": [
    "x_train.shape, x_test.shape, y_train.shape, y_test.shape"
   ]
  },
  {
   "cell_type": "code",
   "execution_count": 20,
   "id": "81c7823f",
   "metadata": {},
   "outputs": [],
   "source": [
    "from sklearn.feature_extraction.text import CountVectorizer\n",
    "from sklearn.naive_bayes import MultinomialNB\n",
    "model1 = MultinomialNB()"
   ]
  },
  {
   "cell_type": "code",
   "execution_count": 7,
   "id": "c6a7c1be",
   "metadata": {},
   "outputs": [
    {
     "data": {
      "text/plain": [
       "array([[0, 0, 0, ..., 0, 0, 0],\n",
       "       [0, 0, 0, ..., 0, 0, 0]], dtype=int64)"
      ]
     },
     "execution_count": 7,
     "metadata": {},
     "output_type": "execute_result"
    }
   ],
   "source": [
    "# convert text data into binary using countvictorizer..\n",
    "\n",
    "v = CountVectorizer()\n",
    "x_train_count = v.fit_transform(x_train.values)\n",
    "x_train_count.toarray()[:2]"
   ]
  },
  {
   "cell_type": "code",
   "execution_count": 8,
   "id": "a641732d",
   "metadata": {},
   "outputs": [
    {
     "data": {
      "text/plain": [
       "MultinomialNB()"
      ]
     },
     "execution_count": 8,
     "metadata": {},
     "output_type": "execute_result"
    }
   ],
   "source": [
    "# fit the model..\n",
    "\n",
    "model1.fit(x_train_count,y_train)"
   ]
  },
  {
   "cell_type": "code",
   "execution_count": 9,
   "id": "7f802436",
   "metadata": {},
   "outputs": [
    {
     "data": {
      "text/plain": [
       "array([0, 1], dtype=int64)"
      ]
     },
     "execution_count": 9,
     "metadata": {},
     "output_type": "execute_result"
    }
   ],
   "source": [
    "# convert the text data into binary 0 for ham and 1 for spam..\n",
    "\n",
    "emails = [\n",
    "    'Hey mohan, can we get together to watch footbal game tomorrow?',\n",
    "    'Upto 20% discount on parking, exclusive offer just for you. Dont miss this reward!'\n",
    "]\n",
    "emails_count = v.transform(emails)\n",
    "model1.predict(emails_count)"
   ]
  },
  {
   "cell_type": "code",
   "execution_count": 10,
   "id": "74cb38a5",
   "metadata": {},
   "outputs": [
    {
     "data": {
      "text/plain": [
       "0.9919282511210762"
      ]
     },
     "execution_count": 10,
     "metadata": {},
     "output_type": "execute_result"
    }
   ],
   "source": [
    "# find the accuracy of the model..\n",
    "\n",
    "x_test_count = v.transform(x_test)\n",
    "model1.score(x_test_count, y_test)"
   ]
  },
  {
   "cell_type": "code",
   "execution_count": 11,
   "id": "efcf1dea",
   "metadata": {},
   "outputs": [],
   "source": [
    "y_pred = model1.predict(x_test_count)"
   ]
  },
  {
   "cell_type": "code",
   "execution_count": 12,
   "id": "12c0d222",
   "metadata": {},
   "outputs": [
    {
     "data": {
      "text/plain": [
       "0.9919282511210762"
      ]
     },
     "execution_count": 12,
     "metadata": {},
     "output_type": "execute_result"
    }
   ],
   "source": [
    "# accuracy score..\n",
    "\n",
    "from sklearn.metrics import accuracy_score\n",
    "accuracy_score(y_test,y_pred)"
   ]
  },
  {
   "cell_type": "code",
   "execution_count": 24,
   "id": "cbf48e1e",
   "metadata": {},
   "outputs": [
    {
     "data": {
      "text/plain": [
       "array([[966,   0],\n",
       "       [  9, 140]], dtype=int64)"
      ]
     },
     "execution_count": 24,
     "metadata": {},
     "output_type": "execute_result"
    }
   ],
   "source": [
    "# confusion matrix..\n",
    "\n",
    "from sklearn.metrics import confusion_matrix\n",
    "cm = confusion_matrix(y_test,y_pred)\n",
    "cm"
   ]
  },
  {
   "cell_type": "code",
   "execution_count": 25,
   "id": "55c960ae",
   "metadata": {},
   "outputs": [
    {
     "name": "stdout",
     "output_type": "stream",
     "text": [
      "              precision    recall  f1-score   support\n",
      "\n",
      "           0       0.99      1.00      1.00       966\n",
      "           1       1.00      0.94      0.97       149\n",
      "\n",
      "    accuracy                           0.99      1115\n",
      "   macro avg       1.00      0.97      0.98      1115\n",
      "weighted avg       0.99      0.99      0.99      1115\n",
      "\n"
     ]
    }
   ],
   "source": [
    "# classification report..\n",
    "\n",
    "from sklearn.metrics import classification_report\n",
    "print(classification_report(y_test,y_pred))"
   ]
  },
  {
   "cell_type": "code",
   "execution_count": 26,
   "id": "29421ba6",
   "metadata": {},
   "outputs": [
    {
     "data": {
      "text/plain": [
       "Text(60.0, 0.5, 'True')"
      ]
     },
     "execution_count": 26,
     "metadata": {},
     "output_type": "execute_result"
    },
    {
     "data": {
      "image/png": "[encoded data removed]",
      "text/plain": [
       "<Figure size 648x504 with 2 Axes>"
      ]
     },
     "metadata": {
      "needs_background": "light"
     },
     "output_type": "display_data"
    }
   ],
   "source": [
    "%matplotlib inline\n",
    "import matplotlib.pyplot as plt\n",
    "import seaborn as sns\n",
    "plt.figure(figsize=(9,7))\n",
    "sns.heatmap(cm, annot=True)\n",
    "plt.title('Confusion matrix',size=18)\n",
    "plt.xlabel('Predict',size=16)\n",
    "plt.ylabel('True',size=16)"
   ]
  },
  {
   "cell_type": "code",
   "execution_count": null,
   "id": "c5b2ef6e",
   "metadata": {},
   "outputs": [],
   "source": []
  }
 ],
 "metadata": {
  "kernelspec": {
   "display_name": "Python 3 (ipykernel)",
   "language": "python",
   "name": "python3"
  },
  "language_info": {
   "codemirror_mode": {
    "name": "ipython",
    "version": 3
   },
   "file_extension": ".py",
   "mimetype": "text/x-python",
   "name": "python",
   "nbconvert_exporter": "python",
   "pygments_lexer": "ipython3",
   "version": "3.9.7"
  }
 },
 "nbformat": 4,
 "nbformat_minor": 5
}
